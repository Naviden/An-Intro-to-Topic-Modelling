{
 "cells": [
  {
   "cell_type": "markdown",
   "metadata": {},
   "source": [
    "Welcome to the Topic Modelling Notebook. Here we will see together Topic Modelling argument using 800,000 article titles.\n",
    "This notebook is written in Python3 and needs the following libraries:\n",
    "\n",
    "* gensim _(pip install --upgrade gensim)_\n",
    "* tqdm _(pip install tqdm)_\n",
    "* puLDAvis _(pip install pyLDAvis)_\n",
    "\n",
    "_Notice : If you use a version older than Python3.6 you may get some problems using fstrings or function type declarations._"
   ]
  },
  {
   "cell_type": "code",
   "execution_count": 5,
   "metadata": {},
   "outputs": [],
   "source": [
    "import warnings\n",
    "warnings.filterwarnings('ignore')\n",
    "import multiprocessing\n",
    "import gensim\n",
    "from gensim import corpora as corporalib\n",
    "from gensim import models \n",
    "from gensim.models.coherencemodel import CoherenceModel\n",
    "from gensim.parsing.preprocessing import preprocess_string\n",
    "import pyLDAvis.gensim \n",
    "import csv\n",
    "import preprocessor as p\n",
    "import re\n",
    "import matplotlib.pyplot as plt\n",
    "import numpy as np\n",
    "from tqdm import tqdm"
   ]
  },
  {
   "cell_type": "markdown",
   "metadata": {},
   "source": [
    "As usual, we set some initial parametrs in this part:"
   ]
  },
  {
   "cell_type": "code",
   "execution_count": 6,
   "metadata": {},
   "outputs": [],
   "source": [
    "file_path=\"Datasets/dblp.xmlarticles.csv\"\n",
    "numcpu = multiprocessing.cpu_count()\n",
    "plt.rcParams['figure.figsize'] = (12,6)"
   ]
  },
  {
   "cell_type": "markdown",
   "metadata": {},
   "source": [
    "The next three functions are not a big deal! they just get data, clean it and prepare it for more serious functions, Topic Modeling fellas!"
   ]
  },
  {
   "cell_type": "code",
   "execution_count": 7,
   "metadata": {},
   "outputs": [],
   "source": [
    "def get_data(file_path:str): \n",
    "    \"\"\"\n",
    "    get data from csv file and write them to a csv file\n",
    "    [is used inside the prepare_LDA_topics() fucntion]\n",
    "    ---------------------------------------------------\n",
    "    Parameters:\n",
    "    file_path : path of the csv file - the file is expected to have two columns with the target data in the second column\n",
    "    \"\"\"\n",
    "    with open(file_path) as f:\n",
    "        reader = csv.reader(f ,delimiter=\";\")\n",
    "        docs = []\n",
    "        for row in reader:\n",
    "            if len(row[0])>0:\n",
    "                docs.append(row[1]) \n",
    "        return docs"
   ]
  },
  {
   "cell_type": "code",
   "execution_count": 8,
   "metadata": {},
   "outputs": [
    {
     "name": "stderr",
     "output_type": "stream",
     "text": [
      "<>:11: DeprecationWarning: invalid escape sequence \\.\n",
      "<>:11: DeprecationWarning: invalid escape sequence \\.\n",
      "<>:11: DeprecationWarning: invalid escape sequence \\.\n",
      "<ipython-input-8-99664ccb009a>:11: DeprecationWarning: invalid escape sequence \\.\n",
      "  texts = [re.sub(\"https?\\.+\", \"\", line) for line in texts]\n"
     ]
    }
   ],
   "source": [
    "def text_preprocess(texts:list, limit:int=5000):\n",
    "    \"\"\"\n",
    "    Perform selected pre-processing steps on the given string\n",
    "    [is used inside the prepare_LDA_topics() fucntion]\n",
    "    ---------------------------------------------------------\n",
    "    Parameters:\n",
    "    text: A string\n",
    "    limit: the number of lines you want to extract.\n",
    "    \"\"\"\n",
    "    #remove urls\n",
    "    texts = [re.sub(\"https?\\.+\", \"\", line) for line in texts]\n",
    "    \n",
    "    my_filter = [\n",
    "    lambda x: x.lower(),\n",
    "    gensim.parsing.strip_punctuation,\n",
    "    gensim.parsing.strip_multiple_whitespaces,\n",
    "    gensim.parsing.strip_numeric,\n",
    "    gensim.parsing.remove_stopwords,\n",
    "    gensim.parsing.strip_short, \n",
    "    gensim.parsing.strip_tags,\n",
    "    #gensim.parsing.stem_text\n",
    "    ]\n",
    "    texts = [preprocess_string(x, filters=my_filter) for x in tqdm(texts[0:limit])]\n",
    "    \n",
    "    return texts"
   ]
  },
  {
   "cell_type": "code",
   "execution_count": 9,
   "metadata": {},
   "outputs": [],
   "source": [
    "def dict_document_matrix(processed_docs):\n",
    "    \"\"\"\n",
    "    return dictionary and BOW of documents\n",
    "    [is used inside the prepare_LDA_topics() fucntion]\n",
    "    --------------------------------------\n",
    "    Parameters: \n",
    "    processed_docs : A list of pre-processed data ,output of text_preprocess() function \n",
    "    \"\"\"\n",
    "    bigram = gensim.models.Phrases(processed_docs, min_count=5, threshold=0.1) #try increasing min_count to three!!\n",
    "    trigram = gensim.models.Phrases(bigram[processed_docs], min_count=5, threshold=0.1)\n",
    "    corpora = [trigram[bigram[s]] for s in processed_docs]\n",
    "    dictionary = corporalib.Dictionary(corpora)\n",
    "    documents = [dictionary.doc2bow(corpus) for corpus in corpora] # BoW representation of document\n",
    "    return dictionary, documents"
   ]
  },
  {
   "cell_type": "markdown",
   "metadata": {},
   "source": [
    "## Latent Dirichlet Allocation (LDA)"
   ]
  },
  {
   "cell_type": "markdown",
   "metadata": {},
   "source": [
    "_Before starting with cool stuff, I should mention that the current way to write functions is just used, just to make them more comprehensible for the guys who are just started to learn Python. While the better way (correct way if I may?) is to use OOP and define a class, in order to avoid classes in order to make them more understandable. so please ignore the repetitive and cumbersome lines of code :)_\n",
    "\n",
    "__LDA or Latent Dirichlet Allocation__ is one of the mostly used models for topic modelling which also has applications beyond extracting topics but also in image processing and Sentiment Analysis. Unlike BOW models, LDA doesn't just consider the frequency of the words but following a more holistic approach it takes into consideration the distribution of words across various topics.\n",
    "LDA can be a bit complicated if we want to approach it using the _plate notation_:\n",
    "<img src=\"Files/plate_notation.png\" height=\"200\" width=\"500\">\n",
    "\n",
    "It has a rather simple concept. To understand it the very first thing we need to understand is that LDA is a generative model. It means unlike discriminative models which learn a function to transform input to output, it tries to determine how the input has been made and using this knowledge it tries to get to the output. So, let's take a look at the assumption LDA makes about documents:\n",
    "\n",
    "__Assumption:__\n",
    "Each document has been created in the following way:\n",
    "* Define the number of words in a document\n",
    "* Define $K$ topics and their distribution ( Ex. $K=3$ --> 45% topic $A$, 20% topic $B$ and 35% topic $C$)\n",
    "* Generate words for the document using the distributoin of multinomial distribution of topics in the document and multinomial distribution of words in a topic.\n",
    "\n",
    "Having such an assumption, in order to assign words to $K$ (defined by you) topics, it follows an algorithm more or less similar to this:\n",
    "* Randomly assign each word in each document to one of the $K$ topics\n",
    "* Pick a word and assume that except the specific topic assigned to this word, the other topics assigned to other words are correct.\n",
    "* Calculate these two probabilities:\n",
    " * Probability of having such a topic for target word given the other words in the document $p(topic\\mid document)$\n",
    " * Probability of having such a word given the distribution of topic in the other documents $p(word \\mid topic)$\n",
    "* Multiple the probabilities calculated above and based on the new probability assign another topic to the word\n",
    "\n",
    "$$p(topic\\mid document) * p(word \\mid topic)$$\n",
    "\n",
    "* Continue this procedure until getting to a stable situation (when assignments make sense)\n",
    "\n",
    "<img src=\"Files/LDA_2.png\" height=\"500\" width=\"500\">\n"
   ]
  },
  {
   "cell_type": "code",
   "execution_count": 10,
   "metadata": {},
   "outputs": [],
   "source": [
    "def prepare_LDA_topics(file_path, num_topics:int=5):\n",
    "    \"\"\"\n",
    "    return the LDA model and other intermediary objects\n",
    "    ---------------------------------------------------\n",
    "    Parameters:\n",
    "    file_path : path of the csv file\n",
    "    num_topics : number of topics\n",
    "    \"\"\"\n",
    "    docs = get_data(file_path)\n",
    "    sentences = text_preprocess(docs)\n",
    "    dictionary, documents = dict_document_matrix(sentences)\n",
    "    ldamodel = gensim.models.LdaMulticore(documents, num_topics=num_topics, id2word=dictionary, passes=100, workers=numcpu)\n",
    "    ldatopics = ldamodel.show_topics(formatted=False)\n",
    "    \n",
    "    return ldamodel, documents, dictionary, ldatopics"
   ]
  },
  {
   "cell_type": "markdown",
   "metadata": {},
   "source": [
    "Now that we have defined our function to create a LDA model, let's actially use it!"
   ]
  },
  {
   "cell_type": "markdown",
   "metadata": {},
   "source": [
    "## Visualization of LDA Topics"
   ]
  },
  {
   "cell_type": "code",
   "execution_count": 7,
   "metadata": {},
   "outputs": [
    {
     "name": "stderr",
     "output_type": "stream",
     "text": [
      "100%|██████████| 5000/5000 [00:00<00:00, 32578.38it/s]\n"
     ]
    },
    {
     "data": {
      "text/html": [
       "\n",
       "<link rel=\"stylesheet\" type=\"text/css\" href=\"https://cdn.rawgit.com/bmabey/pyLDAvis/files/ldavis.v1.0.0.css\">\n",
       "\n",
       "\n",
       "<div id=\"ldavis_el188451122236778005457654864\"></div>\n",
       "<script type=\"text/javascript\">\n",
       "\n",
       "var ldavis_el188451122236778005457654864_data = {\"mdsDat\": {\"x\": [-0.13969709630885913, 0.006534048486900458, 0.006282463678505062, 0.021232944580498, 0.10564763956295563], \"y\": [-0.001017521216377616, -0.006279638461079884, 0.11490970093776245, -0.12493063742146913, 0.01731809616116419], \"topics\": [1, 2, 3, 4, 5], \"cluster\": [1, 1, 1, 1, 1], \"Freq\": [23.631549835205078, 20.69483184814453, 20.27549171447754, 18.080148696899414, 17.31797981262207]}, \"tinfo\": {\"Category\": [\"Default\", \"Default\", \"Default\", \"Default\", \"Default\", \"Default\", \"Default\", \"Default\", \"Default\", \"Default\", \"Default\", \"Default\", \"Default\", \"Default\", \"Default\", \"Default\", \"Default\", \"Default\", \"Default\", \"Default\", \"Default\", \"Default\", \"Default\", \"Default\", \"Default\", \"Default\", \"Default\", \"Default\", \"Default\", \"Default\", \"Topic1\", \"Topic1\", \"Topic1\", \"Topic1\", \"Topic1\", \"Topic1\", \"Topic1\", \"Topic1\", \"Topic1\", \"Topic1\", \"Topic1\", \"Topic1\", \"Topic1\", \"Topic1\", \"Topic1\", \"Topic1\", \"Topic1\", \"Topic1\", \"Topic1\", \"Topic1\", \"Topic1\", \"Topic1\", \"Topic1\", \"Topic1\", \"Topic1\", \"Topic1\", \"Topic1\", \"Topic1\", \"Topic1\", \"Topic1\", \"Topic1\", \"Topic1\", \"Topic1\", \"Topic1\", \"Topic1\", \"Topic1\", \"Topic1\", \"Topic1\", \"Topic1\", \"Topic1\", \"Topic1\", \"Topic1\", \"Topic1\", \"Topic1\", \"Topic1\", \"Topic1\", \"Topic1\", \"Topic1\", \"Topic1\", \"Topic1\", \"Topic1\", \"Topic1\", \"Topic1\", \"Topic1\", \"Topic1\", \"Topic1\", \"Topic1\", \"Topic1\", \"Topic1\", \"Topic1\", \"Topic1\", \"Topic1\", \"Topic1\", \"Topic1\", \"Topic1\", \"Topic1\", \"Topic2\", \"Topic2\", \"Topic2\", \"Topic2\", \"Topic2\", \"Topic2\", \"Topic2\", \"Topic2\", \"Topic2\", \"Topic2\", \"Topic2\", \"Topic2\", \"Topic2\", \"Topic2\", \"Topic2\", \"Topic2\", \"Topic2\", \"Topic2\", \"Topic2\", \"Topic2\", \"Topic2\", \"Topic2\", \"Topic2\", \"Topic2\", \"Topic2\", \"Topic2\", \"Topic2\", \"Topic2\", \"Topic2\", \"Topic2\", \"Topic2\", \"Topic2\", \"Topic2\", \"Topic2\", \"Topic2\", \"Topic2\", \"Topic2\", \"Topic2\", \"Topic2\", \"Topic2\", \"Topic2\", \"Topic2\", \"Topic2\", \"Topic2\", \"Topic2\", \"Topic2\", \"Topic2\", \"Topic2\", \"Topic2\", \"Topic2\", \"Topic2\", \"Topic2\", \"Topic2\", \"Topic2\", \"Topic2\", \"Topic2\", \"Topic2\", \"Topic2\", \"Topic2\", \"Topic2\", \"Topic2\", \"Topic2\", \"Topic2\", \"Topic2\", \"Topic2\", \"Topic2\", \"Topic2\", \"Topic2\", \"Topic2\", \"Topic2\", \"Topic2\", \"Topic2\", \"Topic3\", \"Topic3\", \"Topic3\", \"Topic3\", \"Topic3\", \"Topic3\", \"Topic3\", \"Topic3\", \"Topic3\", \"Topic3\", \"Topic3\", \"Topic3\", \"Topic3\", \"Topic3\", \"Topic3\", \"Topic3\", \"Topic3\", \"Topic3\", \"Topic3\", \"Topic3\", \"Topic3\", \"Topic3\", \"Topic3\", \"Topic3\", \"Topic3\", \"Topic3\", \"Topic3\", \"Topic3\", \"Topic3\", \"Topic3\", \"Topic3\", \"Topic3\", \"Topic3\", \"Topic3\", \"Topic3\", \"Topic3\", \"Topic3\", \"Topic3\", \"Topic3\", \"Topic3\", \"Topic3\", \"Topic3\", \"Topic3\", \"Topic3\", \"Topic3\", \"Topic3\", \"Topic3\", \"Topic3\", \"Topic3\", \"Topic3\", \"Topic3\", \"Topic3\", \"Topic3\", \"Topic3\", \"Topic3\", \"Topic3\", \"Topic3\", \"Topic3\", \"Topic3\", \"Topic3\", \"Topic3\", \"Topic3\", \"Topic3\", \"Topic3\", \"Topic3\", \"Topic3\", \"Topic3\", \"Topic3\", \"Topic3\", \"Topic3\", \"Topic3\", \"Topic4\", \"Topic4\", \"Topic4\", \"Topic4\", \"Topic4\", \"Topic4\", \"Topic4\", \"Topic4\", \"Topic4\", \"Topic4\", \"Topic4\", \"Topic4\", \"Topic4\", \"Topic4\", \"Topic4\", \"Topic4\", \"Topic4\", \"Topic4\", \"Topic4\", \"Topic4\", \"Topic4\", \"Topic4\", \"Topic4\", \"Topic4\", \"Topic4\", \"Topic4\", \"Topic4\", \"Topic4\", \"Topic4\", \"Topic4\", \"Topic4\", \"Topic4\", \"Topic4\", \"Topic4\", \"Topic4\", \"Topic4\", \"Topic4\", \"Topic4\", \"Topic4\", \"Topic4\", \"Topic4\", \"Topic4\", \"Topic4\", \"Topic4\", \"Topic4\", \"Topic4\", \"Topic4\", \"Topic4\", \"Topic4\", \"Topic4\", \"Topic4\", \"Topic4\", \"Topic4\", \"Topic4\", \"Topic4\", \"Topic4\", \"Topic4\", \"Topic4\", \"Topic4\", \"Topic4\", \"Topic4\", \"Topic4\", \"Topic4\", \"Topic4\", \"Topic4\", \"Topic4\", \"Topic4\", \"Topic4\", \"Topic4\", \"Topic5\", \"Topic5\", \"Topic5\", \"Topic5\", \"Topic5\", \"Topic5\", \"Topic5\", \"Topic5\", \"Topic5\", \"Topic5\", \"Topic5\", \"Topic5\", \"Topic5\", \"Topic5\", \"Topic5\", \"Topic5\", \"Topic5\", \"Topic5\", \"Topic5\", \"Topic5\", \"Topic5\", \"Topic5\", \"Topic5\", \"Topic5\", \"Topic5\", \"Topic5\", \"Topic5\", \"Topic5\", \"Topic5\", \"Topic5\", \"Topic5\", \"Topic5\", \"Topic5\", \"Topic5\", \"Topic5\", \"Topic5\", \"Topic5\", \"Topic5\", \"Topic5\", \"Topic5\", \"Topic5\", \"Topic5\", \"Topic5\", \"Topic5\", \"Topic5\", \"Topic5\", \"Topic5\", \"Topic5\", \"Topic5\", \"Topic5\", \"Topic5\", \"Topic5\", \"Topic5\", \"Topic5\", \"Topic5\", \"Topic5\", \"Topic5\", \"Topic5\", \"Topic5\", \"Topic5\", \"Topic5\", \"Topic5\", \"Topic5\", \"Topic5\", \"Topic5\", \"Topic5\", \"Topic5\", \"Topic5\", \"Topic5\", \"Topic5\", \"Topic5\", \"Topic5\", \"Topic5\", \"Topic5\"], \"Freq\": [142.0, 193.0, 47.0, 117.0, 83.0, 47.0, 49.0, 71.0, 322.0, 26.0, 58.0, 212.0, 20.0, 26.0, 66.0, 24.0, 19.0, 19.0, 60.0, 104.0, 35.0, 43.0, 34.0, 27.0, 16.0, 29.0, 19.0, 34.0, 16.0, 41.0, 26.248641967773438, 23.80221176147461, 18.097070693969727, 17.281389236450195, 14.835213661193848, 9.123824119567871, 8.309925079345703, 8.30966854095459, 7.499319076538086, 43.18606948852539, 6.6844892501831055, 6.67538595199585, 6.646006107330322, 5.869437217712402, 5.868227481842041, 5.863497734069824, 13.168196678161621, 20.21792221069336, 5.051980495452881, 5.049838066101074, 4.238611221313477, 4.23836612701416, 4.237868309020996, 4.237070560455322, 4.897640705108643, 9.028594017028809, 8.31770133972168, 17.921520233154297, 15.84704303741455, 3.4232699871063232, 20.1138858795166, 11.426429748535156, 11.363115310668945, 132.27476501464844, 10.529728889465332, 10.502379417419434, 30.356548309326172, 39.6922607421875, 21.988855361938477, 30.20682144165039, 26.123876571655273, 25.500316619873047, 13.002642631530762, 21.408100128173828, 31.403514862060547, 36.623294830322266, 31.407466888427734, 46.227638244628906, 44.678306579589844, 17.41401481628418, 27.964303970336914, 39.339019775390625, 76.42201232910156, 15.601042747497559, 20.57805061340332, 18.903873443603516, 23.754226684570312, 30.906143188476562, 25.375316619873047, 30.338815689086914, 23.682445526123047, 22.562002182006836, 22.59286880493164, 20.596900939941406, 20.62684440612793, 20.389175415039062, 47.082794189453125, 9.84734058380127, 7.43947172164917, 6.632211208343506, 6.628158092498779, 5.821624279022217, 5.820381164550781, 5.015326976776123, 5.014543056488037, 5.013247489929199, 5.009530067443848, 4.206279277801514, 4.205312728881836, 4.205896854400635, 4.205741882324219, 4.205323696136475, 4.20518684387207, 4.205142974853516, 4.204825401306152, 4.199591636657715, 10.447775840759277, 18.066482543945312, 3.3971667289733887, 3.3959758281707764, 3.395382881164551, 3.395050287246704, 3.394955635070801, 3.394757032394409, 3.394474983215332, 3.393946886062622, 11.458966255187988, 6.63420295715332, 25.444597244262695, 10.685165405273438, 11.249970436096191, 55.613914489746094, 8.2588472366333, 19.88310432434082, 27.245498657226562, 22.961763381958008, 27.765514373779297, 15.08389949798584, 7.429869174957275, 35.84296798706055, 8.266467094421387, 8.255495071411133, 16.800390243530273, 28.11784553527832, 10.689666748046875, 91.66365814208984, 10.04191780090332, 15.996127128601074, 27.53355598449707, 36.40388870239258, 28.916126251220703, 11.937703132629395, 33.618431091308594, 27.793594360351562, 18.54601287841797, 22.555538177490234, 38.40298843383789, 27.96344757080078, 16.022985458374023, 15.69787311553955, 20.00364875793457, 17.949674606323242, 24.128761291503906, 14.58952522277832, 15.978114128112793, 17.11127471923828, 16.72809410095215, 16.787349700927734, 16.27345085144043, 8.216449737548828, 8.215883255004883, 8.214341163635254, 24.162063598632812, 4.99552583694458, 4.9941606521606445, 4.9936676025390625, 4.991925239562988, 4.990087032318115, 4.189193248748779, 4.189118385314941, 4.185131549835205, 4.17865514755249, 4.176432132720947, 3.3837671279907227, 3.3837313652038574, 3.3837263584136963, 3.383237838745117, 3.3830738067626953, 3.381314754486084, 3.380021572113037, 3.376732587814331, 3.3759067058563232, 7.420982360839844, 3.3339452743530273, 6.609674453735352, 6.564266204833984, 11.163287162780762, 10.391487121582031, 109.82763671875, 15.963083267211914, 9.034092903137207, 13.704506874084473, 8.195910453796387, 5.805558681488037, 13.763528823852539, 10.171634674072266, 68.33396911621094, 10.490116119384766, 15.357287406921387, 17.597652435302734, 9.665667533874512, 8.30830192565918, 18.592880249023438, 9.020188331604004, 103.6666259765625, 20.74374008178711, 11.467666625976562, 12.545022964477539, 14.489114761352539, 33.42520523071289, 34.99202346801758, 28.323184967041016, 16.432392120361328, 20.88029670715332, 20.0531005859375, 45.88880920410156, 36.05554962158203, 16.828330993652344, 17.429927825927734, 27.914594650268555, 22.316024780273438, 26.496896743774414, 21.904117584228516, 13.21923542022705, 15.96996021270752, 19.89085578918457, 14.879021644592285, 15.71833324432373, 15.071757316589355, 18.5013370513916, 18.498029708862305, 16.10913848876953, 10.52309513092041, 9.725201606750488, 7.332751750946045, 5.7402424812316895, 5.738559246063232, 12.810821533203125, 4.942277431488037, 4.94122314453125, 4.146242618560791, 4.145534515380859, 4.142600059509277, 16.79727554321289, 3.3492369651794434, 3.3490331172943115, 3.3483009338378906, 3.348155975341797, 3.3465943336486816, 3.34653639793396, 3.3456032276153564, 3.3444018363952637, 7.30509090423584, 6.522198677062988, 12.912373542785645, 2.5517406463623047, 2.551718235015869, 2.551708221435547, 2.551701784133911, 3.1694793701171875, 17.249271392822266, 5.593843936920166, 7.345190525054932, 8.493143081665039, 9.04610824584961, 31.311187744140625, 8.100387573242188, 6.540329933166504, 6.544072151184082, 6.544480800628662, 28.6481990814209, 11.113701820373535, 31.175397872924805, 12.88921070098877, 8.140297889709473, 29.32040786743164, 19.813982009887695, 13.533353805541992, 17.303537368774414, 56.1640739440918, 23.999235153198242, 25.759368896484375, 14.551403045654297, 36.11732482910156, 10.886394500732422, 28.68845558166504, 15.323958396911621, 23.942441940307617, 19.212615966796875, 18.104469299316406, 34.64400100708008, 14.248214721679688, 16.34482765197754, 15.568902969360352, 16.20445442199707, 14.83729362487793, 14.695694923400879, 12.979142189025879, 19.96755027770996, 12.043070793151855, 8.873452186584473, 7.289333820343018, 6.495114803314209, 5.704939365386963, 5.702449321746826, 4.913336753845215, 4.912930011749268, 4.118932723999023, 4.118376731872559, 4.117602825164795, 4.1145148277282715, 4.1119771003723145, 3.328096866607666, 3.3280513286590576, 3.328037738800049, 3.3276255130767822, 3.327537775039673, 3.3271985054016113, 3.325821876525879, 3.3246171474456787, 3.3244845867156982, 3.323923110961914, 3.3236916065216064, 3.3231117725372314, 7.30442476272583, 6.510066986083984, 6.465116024017334, 5.704103946685791, 11.954673767089844, 13.185111045837402, 5.655668258666992, 11.897476196289062, 6.163792610168457, 21.002750396728516, 4.885429859161377, 4.851339340209961, 14.390809059143066, 5.7145795822143555, 5.704317092895508, 5.7101593017578125, 8.837076187133789, 9.564574241638184, 14.169183731079102, 15.126435279846191, 9.652488708496094, 56.45311737060547, 32.9560432434082, 16.1960391998291, 13.261056900024414, 14.389239311218262, 16.603750228881836, 14.865678787231445, 14.801194190979004, 11.011961936950684, 9.676332473754883, 14.913515090942383, 10.161754608154297, 10.384225845336914, 13.45665168762207, 19.806106567382812, 23.106672286987305, 12.169530868530273, 11.937590599060059, 14.976567268371582, 13.952600479125977, 14.585515975952148, 13.811559677124023, 12.379254341125488, 13.329602241516113, 14.38039493560791, 15.779764175415039, 12.494464874267578], \"Term\": [\"data\", \"systems\", \"web\", \"algorithm\", \"problem\", \"channel\", \"linear\", \"fuzzy\", \"based\", \"introduction\", \"distributed\", \"analysis\", \"sensing\", \"properties\", \"dynamic\", \"editorial\", \"sequences\", \"complex\", \"optimization\", \"control\", \"use\", \"wireless\", \"selection\", \"protocol\", \"programs\", \"language\", \"objects\", \"routing\", \"compression\", \"theory\", \"introduction\", \"editorial\", \"decoding\", \"mimo\", \"capacity\", \"modulation\", \"certain\", \"guest\", \"support_vector\", \"channel\", \"peer\", \"multiuser\", \"air\", \"bipartite\", \"antennas\", \"outage\", \"relay\", \"modelling\", \"coded\", \"multi_agent\", \"relative\", \"list\", \"noncoherent\", \"transceiver\", \"vehicles\", \"fading_channels\", \"filters\", \"techniques\", \"sequence\", \"purpose\", \"general\", \"ofdm\", \"sensor_networks\", \"systems\", \"special_issue\", \"cdma\", \"wireless\", \"distributed\", \"language\", \"codes\", \"scheduling\", \"error\", \"diversity\", \"set\", \"multiple\", \"fuzzy\", \"application\", \"approach\", \"design\", \"coding\", \"modeling\", \"control\", \"based\", \"oriented\", \"stochastic\", \"prediction\", \"power\", \"networks\", \"estimation\", \"model\", \"adaptive\", \"dynamic\", \"learning\", \"applications\", \"method\", \"optimization\", \"web\", \"cut\", \"upper\", \"balancing\", \"restoration\", \"closed_loop\", \"power_control\", \"reality\", \"mixture\", \"stationary\", \"wind\", \"worst\", \"preface\", \"awareness\", \"optimum\", \"dimensions\", \"views\", \"capacitated\", \"rights\", \"shop\", \"approaches\", \"dual\", \"ethernet\", \"vague\", \"good\", \"branch\", \"centralized\", \"ubiquitous\", \"importance\", \"mediated\", \"bound\", \"geometric\", \"selection\", \"games\", \"evolutionary\", \"problem\", \"designing\", \"protocol\", \"digital\", \"routing\", \"non\", \"identification\", \"radio\", \"network\", \"paths\", \"improvement\", \"stability\", \"optimization\", \"wireless_sensor_networks\", \"based\", \"heuristic\", \"global\", \"multi\", \"approach\", \"information\", \"solving\", \"model\", \"control\", \"performance\", \"graphs\", \"analysis\", \"algorithm\", \"generalized\", \"research\", \"models\", \"algorithms\", \"systems\", \"virtual\", \"power\", \"networks\", \"method\", \"data\", \"compression\", \"column\", \"association\", \"attribute\", \"properties\", \"signature\", \"robots\", \"expressions\", \"appearance\", \"distortion\", \"surveillance\", \"eye\", \"neighbor\", \"pass\", \"planes\", \"native\", \"lossless\", \"das\", \"vectors\", \"fit\", \"envelopment\", \"feasible\", \"layout\", \"dense\", \"government\", \"pilot\", \"relational\", \"service_oriented\", \"blind\", \"similarity\", \"data\", \"decision\", \"f\\u00fcr\", \"mining\", \"information_technology\", \"classes\", \"weighted\", \"localization\", \"algorithm\", \"gene\", \"source\", \"services\", \"policy\", \"pattern\", \"automatic\", \"integrating\", \"based\", \"human\", \"und\", \"field\", \"tree\", \"new\", \"learning\", \"efficient\", \"memory\", \"framework\", \"fast\", \"analysis\", \"model\", \"functions\", \"classification\", \"networks\", \"graphs\", \"method\", \"estimation\", \"statistical\", \"methods\", \"design\", \"structure\", \"application\", \"problem\", \"sequences\", \"complex\", \"programs\", \"average\", \"zero\", \"specification\", \"belief\", \"intersection\", \"orthogonal\", \"principle\", \"robotics\", \"theorems\", \"puzzle\", \"tables\", \"objects\", \"recurrence\", \"propositional\", \"enabling\", \"assembly\", \"best\", \"insights\", \"discretization\", \"biologically\", \"boundary_value\", \"enterprise\", \"solutions\", \"period\", \"india\", \"transitions\", \"cpm\", \"riccati\", \"product\", \"queue\", \"variables\", \"decision_making\", \"event\", \"linear\", \"training\", \"fuzzy_logic\", \"artificial\", \"double\", \"problems\", \"block\", \"dynamic\", \"group\", \"mean\", \"detection\", \"theory\", \"equations\", \"graph\", \"analysis\", \"time\", \"fuzzy\", \"video\", \"model\", \"size\", \"control\", \"generalized\", \"design\", \"estimation\", \"adaptive\", \"based\", \"random\", \"algorithms\", \"multi\", \"networks\", \"models\", \"algorithm\", \"stochastic\", \"sensing\", \"theorem\", \"diagnosis\", \"abstract\", \"book_review\", \"multiscale\", \"polytope\", \"registration\", \"errata\", \"land\", \"switched\", \"obtaining\", \"road\", \"compressive\", \"tableaux\", \"operational\", \"wheels\", \"bearing\", \"kernels\", \"dempster\", \"observations\", \"geographic\", \"cover\", \"fluid\", \"notes\", \"multihop\", \"transition\", \"spaces\", \"texture\", \"assessing\", \"fault\", \"test\", \"enabled\", \"speech\", \"failure\", \"use\", \"technical\", \"partition\", \"numerical\", \"induced\", \"validation\", \"remote\", \"fractional\", \"languages\", \"space\", \"order\", \"grid\", \"analysis\", \"method\", \"images\", \"sets\", \"service\", \"high\", \"improved\", \"software\", \"minimum\", \"mode\", \"simulation\", \"spectrum\", \"function\", \"classification\", \"networks\", \"systems\", \"dimensional\", \"logic\", \"graphs\", \"time\", \"information\", \"detection\", \"computing\", \"models\", \"data\", \"based\", \"efficient\"], \"Total\": [142.0, 193.0, 47.0, 117.0, 83.0, 47.0, 49.0, 71.0, 322.0, 26.0, 58.0, 212.0, 20.0, 26.0, 66.0, 24.0, 19.0, 19.0, 60.0, 104.0, 35.0, 43.0, 34.0, 27.0, 16.0, 29.0, 19.0, 34.0, 16.0, 41.0, 26.8934383392334, 24.447139739990234, 18.740482330322266, 17.92507553100586, 15.478958129882812, 9.770740509033203, 8.955568313598633, 8.95549201965332, 8.141109466552734, 47.181610107421875, 7.325858116149902, 7.325200080871582, 7.324646949768066, 6.510516166687012, 6.510271072387695, 6.509533882141113, 14.638976097106934, 22.76259422302246, 5.694762229919434, 5.694400787353516, 4.879699230194092, 4.879731178283691, 4.879654884338379, 4.879517555236816, 5.6921820640563965, 10.57884407043457, 9.747701644897461, 21.11253547668457, 18.70307731628418, 4.064352989196777, 24.366785049438477, 13.833939552307129, 13.795938491821289, 193.8470001220703, 12.99122428894043, 13.013148307800293, 43.02118682861328, 58.45421600341797, 29.944843292236328, 43.746681213378906, 38.93573760986328, 38.941131591796875, 17.081783294677734, 32.4219856262207, 53.358604431152344, 71.87992858886719, 61.59342575073242, 112.47669219970703, 109.79220581054688, 27.547962188720703, 57.317752838134766, 104.09233856201172, 322.1760559082031, 23.47026824951172, 39.60331344604492, 33.94716262817383, 55.74058532714844, 111.94257354736328, 73.45365142822266, 142.6433563232422, 67.7166519165039, 66.81576538085938, 90.2992935180664, 59.7221794128418, 106.82945251464844, 60.662391662597656, 47.729469299316406, 10.511116027832031, 8.084354400634766, 7.275602340698242, 7.274808883666992, 6.466226100921631, 6.465979099273682, 5.657655715942383, 5.657515048980713, 5.657215595245361, 5.656613826751709, 4.848602771759033, 4.8477463722229, 4.848474502563477, 4.8484649658203125, 4.848391056060791, 4.848373889923096, 4.84835958480835, 4.84822416305542, 4.847682476043701, 12.13625431060791, 21.046875, 4.039493083953857, 4.039185523986816, 4.039092540740967, 4.0390849113464355, 4.039120674133301, 4.0389814376831055, 4.038999080657959, 4.038893699645996, 13.724084854125977, 8.070454597473145, 34.002384185791016, 13.737438201904297, 14.545541763305664, 83.09820556640625, 10.522783279418945, 27.359798431396484, 41.12981033325195, 34.580509185791016, 44.30134963989258, 21.766773223876953, 9.684840202331543, 69.40464782714844, 11.28266716003418, 11.286064147949219, 28.18916893005371, 60.662391662597656, 16.10603141784668, 322.1760559082031, 15.301610946655273, 30.79327964782715, 71.75209045410156, 112.47669219970703, 82.20123291015625, 20.90975570678711, 142.6433563232422, 104.09233856201172, 49.17670440673828, 72.5072021484375, 212.36495971679688, 117.6887435913086, 38.58452606201172, 38.68333435058594, 75.64562225341797, 69.25293731689453, 193.8470001220703, 36.48206329345703, 55.74058532714844, 111.94257354736328, 106.82945251464844, 142.45291137695312, 16.920124053955078, 8.861398696899414, 8.86142635345459, 8.861112594604492, 26.56060791015625, 5.638492584228516, 5.638181686401367, 5.638045310974121, 5.638041973114014, 5.637596130371094, 4.832490921020508, 4.832488059997559, 4.831747531890869, 4.830786228179932, 4.83044958114624, 4.026728630065918, 4.026697158813477, 4.026691913604736, 4.026606559753418, 4.026529312133789, 4.02625036239624, 4.026006698608398, 4.025413990020752, 4.025282859802246, 8.852395057678223, 4.024349212646484, 8.041313171386719, 8.041034698486328, 13.718239784240723, 12.911604881286621, 142.45291137695312, 20.176179885864258, 11.285018920898438, 17.729719161987305, 10.483868598937988, 7.235730171203613, 18.547088623046875, 13.72909927368164, 117.6887435913086, 14.541654586791992, 23.39716911315918, 28.157752990722656, 13.650517463684082, 11.305009841918945, 31.323049545288086, 12.836529731750488, 322.1760559082031, 39.60652160644531, 17.724384307861328, 20.14900016784668, 24.87228012084961, 82.86431884765625, 90.2992935180664, 69.9524154663086, 33.132869720458984, 49.20195007324219, 47.659507751464844, 212.36495971679688, 142.6433563232422, 37.100032806396484, 40.80354309082031, 111.94257354736328, 72.5072021484375, 106.82945251464844, 73.45365142822266, 24.96851348876953, 47.38882827758789, 109.79220581054688, 45.164730072021484, 61.59342575073242, 83.09820556640625, 19.14954376220703, 19.149131774902344, 16.756576538085938, 11.172356605529785, 10.37454891204834, 7.981560707092285, 6.3866777420043945, 6.386340141296387, 14.38257122039795, 5.588899612426758, 5.5887274742126465, 4.791563510894775, 4.791178226470947, 4.790834426879883, 19.982351303100586, 3.993971109390259, 3.9939050674438477, 3.9938125610351562, 3.99367094039917, 3.9936046600341797, 3.9935498237609863, 3.9933273792266846, 3.9931979179382324, 8.787353515625, 7.975901126861572, 15.98250961303711, 3.1963396072387695, 3.196320056915283, 3.1963112354278564, 3.196305990219116, 3.994739294052124, 23.163084030151367, 7.19685173034668, 9.599092483520508, 11.19288444519043, 12.016798973083496, 49.82060623168945, 11.224405288696289, 8.768704414367676, 8.794793128967285, 8.813687324523926, 56.14344024658203, 17.681604385375977, 66.81576538085938, 21.704944610595703, 12.014583587646484, 69.69542694091797, 41.884883880615234, 24.741615295410156, 35.989227294921875, 212.36495971679688, 63.31426239013672, 71.87992858886719, 30.546104431152344, 142.6433563232422, 19.207109451293945, 104.09233856201172, 38.58452606201172, 109.79220581054688, 73.45365142822266, 67.7166519165039, 322.1760559082031, 40.37070083618164, 69.25293731689453, 71.75209045410156, 111.94257354736328, 75.64562225341797, 117.6887435913086, 39.60331344604492, 20.61758804321289, 12.69172477722168, 9.52149772644043, 7.936393737792969, 7.143499374389648, 6.351390838623047, 6.3507232666015625, 5.558956146240234, 5.558595180511475, 4.766045570373535, 4.765922546386719, 4.76576566696167, 4.765328407287598, 4.764876842498779, 3.9737162590026855, 3.9736764430999756, 3.973663568496704, 3.9736342430114746, 3.9735822677612305, 3.9735236167907715, 3.973287582397461, 3.973097562789917, 3.9731175899505615, 3.9729957580566406, 3.972928047180176, 3.972795009613037, 8.750003814697266, 7.9401750564575195, 7.9393768310546875, 7.156047344207764, 15.084799766540527, 16.73504638671875, 7.156498908996582, 16.722944259643555, 7.956900119781494, 35.92283630371094, 6.373441696166992, 6.355706214904785, 25.495986938476562, 7.980102062225342, 7.9679179191589355, 7.97900390625, 14.323065757751465, 15.956130981445312, 27.23439598083496, 31.86884307861328, 16.836063385009766, 212.36495971679688, 106.82945251464844, 38.34192657470703, 28.7158260345459, 32.883968353271484, 43.346351623535156, 36.0543212890625, 36.893856048583984, 23.22856903076172, 18.403059005737305, 45.895347595214844, 20.879085540771484, 22.510475158691406, 40.80354309082031, 111.94257354736328, 193.8470001220703, 35.21070098876953, 35.33514404296875, 72.5072021484375, 63.31426239013672, 82.20123291015625, 69.69542694091797, 48.24740219116211, 75.64562225341797, 142.45291137695312, 322.1760559082031, 69.9524154663086], \"loglift\": [30.0, 29.0, 28.0, 27.0, 26.0, 25.0, 24.0, 23.0, 22.0, 21.0, 20.0, 19.0, 18.0, 17.0, 16.0, 15.0, 14.0, 13.0, 12.0, 11.0, 10.0, 9.0, 8.0, 7.0, 6.0, 5.0, 4.0, 3.0, 2.0, 1.0, 1.4183000326156616, 1.4158999919891357, 1.4076999425888062, 1.406000018119812, 1.4000999927520752, 1.3740999698638916, 1.367799997329712, 1.3676999807357788, 1.3604999780654907, 1.354099988937378, 1.3509999513626099, 1.3496999740600586, 1.3453999757766724, 1.3388999700546265, 1.3387999534606934, 1.3380999565124512, 1.3366999626159668, 1.3240000009536743, 1.3228000402450562, 1.3224999904632568, 1.3016999959945679, 1.3016999959945679, 1.3015999794006348, 1.3013999462127686, 1.292199969291687, 1.28410005569458, 1.2839000225067139, 1.2786999940872192, 1.276900053024292, 1.270900011062622, 1.2508000135421753, 1.2513999938964844, 1.2486000061035156, 1.0604000091552734, 1.2324999570846558, 1.2281999588012695, 1.0938999652862549, 1.0555000305175781, 1.1338000297546387, 1.0721999406814575, 1.0434999465942383, 1.0191999673843384, 1.169700026512146, 1.027500033378601, 0.9125000238418579, 0.7682999968528748, 0.76910001039505, 0.5533999800682068, 0.5435000061988831, 0.9839000105857849, 0.7249000072479248, 0.46950000524520874, 0.003800000064074993, 1.0341999530792236, 0.7878999710083008, 0.8571000099182129, 0.5896000266075134, 0.15559999644756317, 0.3797000050544739, -0.10530000180006027, 0.3919999897480011, 0.35690000653266907, 0.057100001722574234, 0.3779999911785126, -0.2020999938249588, 0.3522999882698059, 1.5615999698638916, 1.51010000705719, 1.4922000169754028, 1.482699990272522, 1.482200026512146, 1.4702999591827393, 1.4701000452041626, 1.454800009727478, 1.4545999765396118, 1.4543999433517456, 1.4537999629974365, 1.4332000017166138, 1.4330999851226807, 1.4330999851226807, 1.4330999851226807, 1.4329999685287476, 1.4329999685287476, 1.4329999685287476, 1.4328999519348145, 1.4318000078201294, 1.4255000352859497, 1.4226000308990479, 1.4020999670028687, 1.4018000364303589, 1.4017000198364258, 1.4016000032424927, 1.4014999866485596, 1.4014999866485596, 1.4013999700546265, 1.4012999534606934, 1.3948999643325806, 1.3792999982833862, 1.2854000329971313, 1.3240000009536743, 1.3184000253677368, 1.173699975013733, 1.3329999446868896, 1.256100058555603, 1.1634000539779663, 1.1657999753952026, 1.1081000566482544, 1.2085000276565552, 1.3101999759674072, 0.9144999980926514, 1.26419997215271, 1.2625999450683594, 1.057800054550171, 0.8064000010490417, 1.1654000282287598, 0.3183000087738037, 1.154099941253662, 0.9203000068664551, 0.6175000071525574, 0.4472000002861023, 0.5304999947547913, 1.014799952507019, 0.12999999523162842, 0.2547999918460846, 0.6000999808311462, 0.4075999855995178, -0.13490000367164612, 0.13809999823570251, 0.6965000033378601, 0.6733999848365784, 0.2451000064611435, 0.22509999573230743, -0.508400022983551, 0.6588000059127808, 0.32580000162124634, -0.30300000309944153, -0.27889999747276306, -0.5630999803543091, 1.5568000078201294, 1.5202000141143799, 1.5200999975204468, 1.5199999809265137, 1.501099944114685, 1.4746999740600586, 1.4744999408721924, 1.4744000434875488, 1.4739999771118164, 1.4737999439239502, 1.4529000520706177, 1.4529000520706177, 1.4521000385284424, 1.450700044631958, 1.4502999782562256, 1.4218000173568726, 1.4218000173568726, 1.4218000173568726, 1.4217000007629395, 1.4215999841690063, 1.4212000370025635, 1.4208999872207642, 1.4199999570846558, 1.419800043106079, 1.4193999767303467, 1.4076000452041626, 1.3997000455856323, 1.392799973487854, 1.3897000551223755, 1.378600001335144, 1.3357000350952148, 1.3615000247955322, 1.3732999563217163, 1.3381999731063843, 1.3495999574661255, 1.375499963760376, 1.2975000143051147, 1.295799970626831, 1.0520999431610107, 1.2691999673843384, 1.1747000217437744, 1.1256999969482422, 1.250599980354309, 1.2877999544143677, 1.0742000341415405, 1.242900013923645, 0.4618000090122223, 0.9490000009536743, 1.1603000164031982, 1.121899962425232, 1.055400013923645, 0.6879000067710876, 0.6477000117301941, 0.6916000247001648, 0.8945000171661377, 0.7386000156402588, 0.7300999760627747, 0.06369999796152115, 0.22050000727176666, 0.8051999807357788, 0.745199978351593, 0.2069000005722046, 0.4174000024795532, 0.20160000026226044, 0.38580000400543213, 0.9598000049591064, 0.5080999732017517, -0.11259999871253967, 0.48539999127388, 0.23000000417232513, -0.11140000075101852, 1.6758999824523926, 1.6757999658584595, 1.6710000038146973, 1.6505000591278076, 1.6456999778747559, 1.625599980354309, 1.603600025177002, 1.6033999919891357, 1.594599962234497, 1.587399959564209, 1.5872000455856323, 1.5657000541687012, 1.565600037574768, 1.565000057220459, 1.5367000102996826, 1.5342999696731567, 1.5342999696731567, 1.53410005569458, 1.53410005569458, 1.5335999727249146, 1.5335999727249146, 1.533400058746338, 1.5331000089645386, 1.5255999565124512, 1.5090999603271484, 1.496999979019165, 1.4851000308990479, 1.4851000308990479, 1.4851000308990479, 1.4851000308990479, 1.4788999557495117, 1.4155999422073364, 1.458400011062622, 1.4427000284194946, 1.4342999458312988, 1.4263999462127686, 1.24590003490448, 1.3841999769210815, 1.417199969291687, 1.4148000478744507, 1.4127000570297241, 1.037500023841858, 1.246000051498413, 0.9480000138282776, 1.1892000436782837, 1.3210999965667725, 0.8445000052452087, 0.9617999792098999, 1.1069999933242798, 0.9779999852180481, 0.38029998540878296, 0.7402999997138977, 0.6841999888420105, 0.9688000082969666, 0.3368000090122223, 1.1426000595092773, 0.42160001397132874, 0.786899983882904, 0.1873999983072281, 0.3693000078201294, 0.3912000060081482, -0.519599974155426, 0.6689000129699707, 0.26649999618530273, 0.18240000307559967, -0.2222999930381775, 0.08139999955892563, -0.3700999915599823, 0.5947999954223633, 1.7214000225067139, 1.7009999752044678, 1.6828999519348145, 1.6684000492095947, 1.6583000421524048, 1.6461000442504883, 1.645799994468689, 1.6299999952316284, 1.6299999952316284, 1.6074999570846558, 1.6073999404907227, 1.607200026512146, 1.606600046157837, 1.6060999631881714, 1.5760999917984009, 1.5760999917984009, 1.5760999917984009, 1.5759999752044678, 1.5759999752044678, 1.5758999586105347, 1.5755000114440918, 1.5751999616622925, 1.5751999616622925, 1.5750999450683594, 1.5750000476837158, 1.5749000310897827, 1.5729000568389893, 1.554800033569336, 1.5479999780654907, 1.5267000198364258, 1.520900011062622, 1.5149999856948853, 1.5181000232696533, 1.4129999876022339, 1.4981000423431396, 1.2166999578475952, 1.4874999523162842, 1.483299970626831, 1.18149995803833, 1.4194999933242798, 1.4191999435424805, 1.4189000129699707, 1.2704999446868896, 1.2416000366210938, 1.100000023841858, 1.0082000494003296, 1.197100043296814, 0.4284999966621399, 0.5774000287055969, 0.8916000127792358, 0.9807999730110168, 0.9269000291824341, 0.7937999963760376, 0.8675000071525574, 0.8400999903678894, 1.0069999694824219, 1.1105999946594238, 0.6292999982833862, 1.0333000421524048, 0.9797000288963318, 0.64410001039505, 0.021400000900030136, -0.3734999895095825, 0.6909999847412109, 0.6682000160217285, 0.1762000024318695, 0.2409999966621399, 0.024299999698996544, 0.1348000019788742, 0.39309999346733093, 0.017400000244379044, -0.5396999716758728, -1.2628999948501587, 0.030899999663233757], \"logprob\": [30.0, 29.0, 28.0, 27.0, 26.0, 25.0, 24.0, 23.0, 22.0, 21.0, 20.0, 19.0, 18.0, 17.0, 16.0, 15.0, 14.0, 13.0, 12.0, 11.0, 10.0, 9.0, 8.0, 7.0, 6.0, 5.0, 4.0, 3.0, 2.0, 1.0, -5.736299991607666, -5.834099769592285, -6.108099937438965, -6.154300212860107, -6.3069000244140625, -6.793000221252441, -6.88640022277832, -6.886499881744385, -6.989099979400635, -5.238399982452393, -7.104100227355957, -7.105500221252441, -7.109899997711182, -7.234099864959717, -7.234300136566162, -7.235099792480469, -6.42609977722168, -5.997300148010254, -7.384099960327148, -7.384500026702881, -7.559700012207031, -7.559700012207031, -7.559800148010254, -7.559999942779541, -7.41510009765625, -6.803500175476074, -6.885499954223633, -6.1178998947143555, -6.240900039672852, -7.7733001708984375, -6.002500057220459, -6.567999839782715, -6.573500156402588, -4.11899995803833, -6.649700164794922, -6.652299880981445, -5.59089994430542, -5.322700023651123, -5.913400173187256, -5.595799922943115, -5.741000175476074, -5.765200138092041, -6.438700199127197, -5.940100193023682, -5.557000160217285, -5.403200149536133, -5.55679988861084, -5.170300006866455, -5.204400062561035, -6.146599769592285, -5.672999858856201, -5.331699848175049, -4.667600154876709, -6.2565999031066895, -5.979700088500977, -6.064499855041504, -5.836100101470947, -5.57289981842041, -5.770100116729736, -5.5914998054504395, -5.839200019836426, -5.887599945068359, -5.886300086975098, -5.978799819946289, -5.97730016708374, -5.988900184631348, -5.0192999839782715, -6.584000110626221, -6.8643999099731445, -6.979300022125244, -6.979899883270264, -7.109600067138672, -7.109799861907959, -7.258699893951416, -7.258900165557861, -7.259099960327148, -7.259900093078613, -7.434599876403809, -7.434800148010254, -7.434700012207031, -7.434700012207031, -7.434800148010254, -7.434899806976318, -7.434899806976318, -7.434999942779541, -7.436200141906738, -6.524799823760986, -5.977099895477295, -7.6483001708984375, -7.648600101470947, -7.648799896240234, -7.648900032043457, -7.648900032043457, -7.64900016784668, -7.64900016784668, -7.649199962615967, -6.432400226593018, -6.979000091552734, -5.634699821472168, -6.502299785614014, -6.450799942016602, -4.852799892425537, -6.759900093078613, -5.88129997253418, -5.566299915313721, -5.737400054931641, -5.547399997711182, -6.157599925994873, -6.865699768066406, -5.291999816894531, -6.758999824523926, -6.760300159454346, -6.049799919128418, -5.534800052642822, -6.5019001960754395, -4.353099822998047, -6.5644001960754395, -6.098800182342529, -5.555799961090088, -5.276500225067139, -5.506800174713135, -6.391499996185303, -5.356100082397461, -5.54640007019043, -5.950900077819824, -5.755199909210205, -5.223100185394287, -5.540299892425537, -6.0971999168396, -6.117700099945068, -5.87529993057251, -5.98360013961792, -5.68779993057251, -6.190899848937988, -6.099999904632568, -6.031499862670898, -6.054100036621094, -6.050600051879883, -6.061200141906738, -6.74459981918335, -6.744699954986572, -6.744800090789795, -5.665900230407715, -7.242199897766113, -7.242499828338623, -7.242599964141846, -7.2428998947143555, -7.243299961090088, -7.4182000160217285, -7.4182000160217285, -7.4191999435424805, -7.4207000732421875, -7.421299934387207, -7.631700038909912, -7.631700038909912, -7.631700038909912, -7.631899833679199, -7.631899833679199, -7.632500171661377, -7.632800102233887, -7.633800029754639, -7.634099960327148, -6.846399784088135, -7.646599769592285, -6.962200164794922, -6.969099998474121, -6.4380998611450195, -6.509699821472168, -4.151800155639648, -6.080399990081787, -6.649700164794922, -6.232999801635742, -6.747099876403809, -7.091899871826172, -6.228700160980225, -6.531099796295166, -4.626299858093262, -6.50029993057251, -6.119100093841553, -5.982999801635742, -6.582099914550781, -6.733500003814697, -5.9278998374938965, -6.651299953460693, -4.209499835968018, -5.81850004196167, -6.411200046539307, -6.321400165557861, -6.177299976348877, -5.341400146484375, -5.295599937438965, -5.506999969482422, -6.051499843597412, -5.8119001388549805, -5.85230016708374, -5.024499893188477, -5.265699863433838, -6.027699947357178, -5.992499828338623, -5.521599769592285, -5.7453999519348145, -5.573699951171875, -5.763999938964844, -6.269000053405762, -6.079999923706055, -5.860499858856201, -6.1508002281188965, -6.095900058746338, -6.137899875640869, -5.818299770355225, -5.81850004196167, -5.956699848175049, -6.382599830627441, -6.461400032043457, -6.743800163269043, -6.98859977722168, -6.988900184631348, -6.185800075531006, -7.138299942016602, -7.138500213623047, -7.313899993896484, -7.3140997886657715, -7.314799785614014, -5.914899826049805, -7.527400016784668, -7.527500152587891, -7.527699947357178, -7.527699947357178, -7.528200149536133, -7.528200149536133, -7.528500080108643, -7.528800010681152, -6.747600078582764, -6.860899925231934, -6.1778998374938965, -7.799300193786621, -7.7993998527526855, -7.7993998527526855, -7.7993998527526855, -7.582600116729736, -5.888400077819824, -7.014500141143799, -6.742099761962891, -6.59689998626709, -6.53380012512207, -5.292099952697754, -6.644199848175049, -6.858099937438965, -6.857600212097168, -6.857500076293945, -5.38100004196167, -6.327899932861328, -5.296500205993652, -6.179699897766113, -6.6392998695373535, -5.357800006866455, -5.74970006942749, -6.13100004196167, -5.885200023651123, -4.707799911499023, -5.55810022354126, -5.487299919128418, -6.0584001541137695, -5.149400234222412, -6.348599910736084, -5.3796000480651855, -6.006700038909912, -5.560500144958496, -5.780600070953369, -5.840000152587891, -5.190999984741211, -6.079500198364258, -5.942200183868408, -5.990799903869629, -5.950799942016602, -6.039000034332275, -6.048600196838379, -6.172800064086914, -5.69890022277832, -6.204599857330322, -6.510000228881836, -6.706600189208984, -6.822000026702881, -6.951700210571289, -6.952199935913086, -7.101099967956543, -7.101200103759766, -7.277500152587891, -7.277599811553955, -7.2778000831604, -7.278500080108643, -7.279200077056885, -7.490699768066406, -7.490699768066406, -7.490699768066406, -7.490799903869629, -7.490799903869629, -7.490900039672852, -7.491300106048584, -7.491700172424316, -7.491700172424316, -7.4918999671936035, -7.492000102996826, -7.492199897766113, -6.704599857330322, -6.819699764251709, -6.826600074768066, -6.951900005340576, -6.211900234222412, -6.113999843597412, -6.960400104522705, -6.216700077056885, -6.8744001388549805, -5.648399829864502, -7.106800079345703, -7.113800048828125, -6.026500225067139, -6.949999809265137, -6.9517998695373535, -6.950799942016602, -6.514100074768066, -6.434999942779541, -6.041999816894531, -5.976600170135498, -6.42579984664917, -4.659599781036377, -5.19789981842041, -5.908299922943115, -6.1082000732421875, -6.026599884033203, -5.883399963378906, -5.99399995803833, -5.998300075531006, -6.294099807739258, -6.423399925231934, -5.990799903869629, -6.3744001388549805, -6.352799892425537, -6.093599796295166, -5.707099914550781, -5.5528998374938965, -6.1940999031066895, -6.213399887084961, -5.986599922180176, -6.057400226593018, -6.013000011444092, -6.067500114440918, -6.177000045776367, -6.103099822998047, -6.027200222015381, -5.934299945831299, -6.167799949645996]}, \"token.table\": {\"Topic\": [5, 1, 2, 3, 4, 5, 1, 1, 2, 3, 4, 1, 2, 3, 4, 5, 1, 2, 3, 4, 5, 1, 3, 1, 2, 3, 4, 1, 2, 3, 4, 5, 1, 2, 3, 4, 5, 1, 2, 3, 4, 4, 3, 5, 3, 3, 2, 3, 5, 4, 2, 2, 1, 2, 3, 4, 5, 5, 4, 4, 4, 1, 1, 3, 1, 4, 5, 2, 4, 3, 4, 2, 2, 1, 1, 2, 3, 2, 1, 1, 5, 3, 5, 2, 3, 4, 5, 2, 1, 1, 2, 4, 5, 1, 3, 4, 3, 4, 3, 5, 1, 2, 3, 4, 5, 1, 2, 4, 5, 5, 4, 2, 3, 2, 3, 4, 5, 1, 2, 3, 3, 4, 1, 5, 3, 1, 2, 3, 4, 5, 1, 2, 1, 2, 3, 4, 5, 5, 1, 2, 4, 5, 1, 2, 3, 4, 5, 2, 4, 3, 1, 2, 4, 1, 2, 1, 4, 1, 2, 1, 2, 4, 5, 1, 1, 2, 3, 4, 5, 3, 5, 4, 4, 5, 3, 2, 3, 4, 5, 5, 1, 2, 4, 5, 1, 2, 3, 4, 2, 1, 2, 4, 2, 3, 3, 3, 1, 2, 2, 5, 1, 2, 3, 5, 4, 5, 3, 1, 3, 5, 1, 5, 3, 5, 1, 4, 5, 1, 2, 3, 5, 1, 3, 5, 1, 2, 3, 5, 1, 3, 4, 4, 5, 2, 3, 2, 3, 1, 3, 1, 4, 2, 3, 4, 5, 2, 4, 1, 2, 3, 2, 3, 4, 1, 2, 3, 4, 5, 1, 2, 3, 5, 1, 5, 1, 2, 4, 1, 2, 3, 5, 1, 2, 3, 4, 5, 1, 2, 3, 4, 1, 2, 3, 5, 1, 2, 3, 4, 5, 2, 1, 2, 3, 4, 5, 2, 4, 4, 1, 5, 1, 2, 3, 4, 5, 1, 2, 3, 4, 3, 5, 4, 1, 5, 5, 1, 5, 3, 5, 3, 1, 2, 3, 4, 5, 1, 3, 4, 1, 1, 3, 1, 3, 4, 5, 3, 2, 4, 2, 1, 3, 4, 1, 2, 3, 4, 5, 1, 2, 3, 4, 5, 1, 1, 2, 3, 5, 2, 3, 5, 2, 1, 2, 4, 5, 1, 2, 3, 4, 5, 1, 2, 3, 4, 5, 1, 5, 1, 2, 3, 4, 5, 1, 1, 2, 3, 4, 5, 1, 5, 1, 3, 4, 5, 5, 1, 3, 3, 1, 2, 3, 4, 5, 1, 2, 3, 4, 5, 1, 2, 3, 4, 5, 2, 3, 4, 5, 1, 5, 1, 4, 5, 2, 4, 5, 5, 1, 2, 5, 1, 2, 4, 2, 2, 4, 5, 1, 3, 5, 1, 4, 1, 4, 5, 3, 2, 3, 5, 1, 3, 1, 1, 2, 3, 4, 5, 4, 3, 3, 3, 4, 5, 5, 1, 2, 4, 5, 2, 1, 2, 4, 5, 2, 4, 2, 3, 4, 1, 2, 3, 4, 5, 3, 4, 5, 4, 3, 5, 4, 2, 5, 1, 4, 2, 4, 2, 3, 4, 1, 2, 3, 4, 2, 4, 5, 3, 5, 1, 1, 5, 1, 5, 1, 2, 5, 2, 4, 2, 5, 4, 3, 2, 4, 5, 1, 3, 4, 1, 2, 3, 5, 1, 5, 1, 2, 4, 4, 1, 2, 4, 5, 3, 5, 2, 3, 4, 5, 1, 2, 3, 5, 1, 4, 5, 2, 3, 1, 3, 1, 3, 5, 2, 3, 4, 5, 1, 3, 4, 5, 3, 4, 2, 4, 1, 3, 5, 1, 2, 4, 5, 4, 5, 1, 4, 4, 1, 2, 5, 3, 5, 2, 3, 4, 2, 1, 2, 3, 5, 1, 2, 3, 4, 1, 2, 3, 4, 5, 1, 3, 5, 1, 2, 3, 5, 5, 4, 1, 5, 1, 5, 1, 5, 4, 5, 5, 4, 1, 2, 4, 1, 2, 3, 4, 5, 1, 4, 1, 1, 5, 4, 2, 3, 5, 2, 1, 2, 3, 4, 2, 2, 3, 5, 2, 2, 5, 2, 4, 3, 1, 1, 3, 4, 5, 2, 1, 2, 3, 4, 2, 2, 3, 5, 2, 1, 3, 5, 2, 4, 2, 4], \"Freq\": [0.882012665271759, 0.354418009519577, 0.20674383640289307, 0.07383707910776138, 0.2658134996891022, 0.10337191820144653, 0.9556774497032166, 0.05947892367839813, 0.23791569471359253, 0.5777952671051025, 0.12745484709739685, 0.2599167823791504, 0.2599167823791504, 0.10107874870300293, 0.23103712499141693, 0.14439821243286133, 0.07063312083482742, 0.17893724143505096, 0.21660824120044708, 0.2636969983577728, 0.2636969983577728, 0.9216206073760986, 0.8868327140808105, 0.5033004879951477, 0.14611949026584625, 0.25976797938346863, 0.0811774954199791, 0.3516281545162201, 0.21767456829547882, 0.1841861754655838, 0.11720938980579376, 0.11720938980579376, 0.4089736342430115, 0.32006630301475525, 0.10668876767158508, 0.1155795007944107, 0.04445365443825722, 0.08239774405956268, 0.8239774703979492, 0.2274072766304016, 0.795925498008728, 0.7511885762214661, 0.1397419422864914, 0.8384516835212708, 0.9027891755104065, 0.9028211832046509, 0.15962685644626617, 0.6065820455551147, 0.22347760200500488, 0.9845729470252991, 0.8250017762184143, 0.9621196389198303, 0.23589587211608887, 0.28555816411972046, 0.32280486822128296, 0.10863625258207321, 0.04966228827834129, 0.7549763917922974, 0.9394555687904358, 0.7512010335922241, 0.7512775659561157, 0.9215859174728394, 0.14579129219055176, 0.8018521666526794, 0.33933570981025696, 0.6221154928207397, 0.8399244546890259, 0.8015106320381165, 0.1457292139530182, 0.11379990726709366, 0.7965993285179138, 0.7427424788475037, 0.8250213265419006, 0.9690574407577515, 0.8452988862991333, 0.07684535533189774, 0.07684535533189774, 0.7427359223365784, 0.8932989835739136, 0.9113720059394836, 0.0635840967297554, 0.829218327999115, 0.13820305466651917, 0.0490153506398201, 0.41663047671318054, 0.1960614025592804, 0.31859979033470154, 0.9278982877731323, 0.8779997825622559, 0.6857662796974182, 0.0685766339302063, 0.1371532678604126, 0.091435506939888, 0.6171055436134338, 0.1815016269683838, 0.1815016269683838, 0.9027920365333557, 0.9399904012680054, 0.945619523525238, 0.8394760489463806, 0.2487180531024933, 0.12435902655124664, 0.2487180531024933, 0.12435902655124664, 0.2487180531024933, 0.37466734647750854, 0.26899194717407227, 0.2785987854003906, 0.07685483992099762, 0.7550745606422424, 0.938583493232727, 0.9513737559318542, 0.7450284361839294, 0.11933767795562744, 0.7721849679946899, 0.007019863463938236, 0.09827809035778046, 0.14869019389152527, 0.04956339672207832, 0.7930143475532532, 0.17868494987487793, 0.7147397994995117, 0.9604875445365906, 0.7549973726272583, 0.7452892661094666, 0.4098651707172394, 0.11840549111366272, 0.1821622997522354, 0.2185947448015213, 0.07286491990089417, 0.19006378948688507, 0.7602551579475403, 0.12913329899311066, 0.043044429272413254, 0.20087401568889618, 0.41609618067741394, 0.20087401568889618, 0.9452294707298279, 0.09725306183099747, 0.6564581990242004, 0.12156632542610168, 0.09725306183099747, 0.14200228452682495, 0.02840045653283596, 0.19880320131778717, 0.2840045690536499, 0.3408054709434509, 0.8250159621238708, 0.7512531876564026, 0.8869028091430664, 0.6842962503433228, 0.2052888721227646, 0.11975184082984924, 0.7610446810722351, 0.23416759073734283, 0.22691978514194489, 0.7942192554473877, 0.09502598643302917, 0.8552338480949402, 0.34423014521598816, 0.14966528117656708, 0.4639623463153839, 0.044899582862854004, 0.9817099571228027, 0.15724974870681763, 0.11436345428228378, 0.40027210116386414, 0.14295431971549988, 0.17154517769813538, 0.13973313570022583, 0.838398814201355, 0.7511619329452515, 0.8776437640190125, 0.12537768483161926, 0.7451101541519165, 0.08083546906709671, 0.08083546906709671, 0.5658482909202576, 0.2829241454601288, 0.8995078206062317, 0.6676744818687439, 0.2311180979013443, 0.05135957524180412, 0.07703936100006104, 0.3403506875038147, 0.09529818594455719, 0.29950860142707825, 0.2586665153503418, 0.7426674365997314, 0.1664336770772934, 0.0832168385386467, 0.7489515542984009, 0.756245493888855, 0.20624876022338867, 0.8868321776390076, 0.8277309536933899, 0.8507545590400696, 0.09452828764915466, 0.12567707896232605, 0.7540624737739563, 0.37767910957336426, 0.06294651329517365, 0.41964343190193176, 0.1258930265903473, 0.19887569546699524, 0.795502781867981, 0.7451552152633667, 0.2481512725353241, 0.6451932787895203, 0.14889076352119446, 0.820706307888031, 0.10258828848600388, 0.745058536529541, 0.7550976872444153, 0.069817453622818, 0.279269814491272, 0.6283571124076843, 0.2845415771007538, 0.10162198543548584, 0.4268123507499695, 0.16259518265724182, 0.48866137862205505, 0.04442376270890236, 0.444237619638443, 0.10781661421060562, 0.3504039943218231, 0.45822063088417053, 0.10781661421060562, 0.5147473216056824, 0.1252088099718094, 0.36171433329582214, 0.7982935309410095, 0.22808386385440826, 0.17722611129283905, 0.7975174784660339, 0.8007315397262573, 0.21838133037090302, 0.2750718593597412, 0.687679648399353, 0.8207894563674927, 0.16415788233280182, 0.4146740138530731, 0.18141987919807434, 0.3887568712234497, 0.7550783753395081, 0.867361307144165, 0.12390875816345215, 0.32474619150161743, 0.5195938944816589, 0.16237309575080872, 0.7427411079406738, 0.7907464504241943, 0.11296378076076508, 0.0833582803606987, 0.11114437133073807, 0.0833582803606987, 0.47236356139183044, 0.22228874266147614, 0.16550080478191376, 0.3172098696231842, 0.3034181296825409, 0.2068759948015213, 0.4157741665840149, 0.593963086605072, 0.32250717282295227, 0.09214489907026291, 0.5989418625831604, 0.8933066129684448, 0.6535259485244751, 0.13070519268512726, 0.1960577815771103, 0.20762993395328522, 0.23069992661476135, 0.11534996330738068, 0.0692099779844284, 0.3921898603439331, 0.3029803931713104, 0.10099346935749054, 0.5302157402038574, 0.0757450982928276, 0.045941583812236786, 0.6891237497329712, 0.09188316762447357, 0.13782474398612976, 0.07824333012104034, 0.07824333012104034, 0.13040554523468018, 0.28689220547676086, 0.41729775071144104, 0.7427582740783691, 0.138679638504982, 0.22188740968704224, 0.08320777863264084, 0.138679638504982, 0.4160389006137848, 0.7088387608528137, 0.26581454277038574, 0.9385793209075928, 0.2506233751773834, 0.7518700957298279, 0.23114009201526642, 0.35279276967048645, 0.13381794095039368, 0.09732214361429214, 0.18247900903224945, 0.0953846350312233, 0.0953846350312233, 0.7630770802497864, 0.7512113451957703, 0.7011240720748901, 0.23370802402496338, 0.9395052194595337, 0.966778576374054, 0.7549862265586853, 0.8392701745033264, 0.7346841096878052, 0.23376311361789703, 0.3760310113430023, 0.6267183423042297, 0.7452649474143982, 0.25470852851867676, 0.1439656913280487, 0.3875999450683594, 0.09966855496168137, 0.12181711941957474, 0.3211522400379181, 0.04014403000473976, 0.6222324967384338, 0.819717288017273, 0.21851396560668945, 0.7283799052238464, 0.31130480766296387, 0.22640348970890045, 0.11320174485445023, 0.3396052420139313, 0.745027482509613, 0.2496965378522873, 0.6658574342727661, 0.7427776455879211, 0.36217811703681946, 0.4829041361808777, 0.12072603404521942, 0.19657500088214874, 0.15913215279579163, 0.24337857961654663, 0.09360714256763458, 0.3089035749435425, 0.06330606341362, 0.21102020144462585, 0.33763232827186584, 0.23212221264839172, 0.14771413803100586, 0.9483920931816101, 0.08610086888074875, 0.25830259919166565, 0.1722017377614975, 0.473554790019989, 0.16920742392539978, 0.789634644985199, 0.05640247091650963, 0.8837802410125732, 0.10867758095264435, 0.32603275775909424, 0.054338790476322174, 0.5433879494667053, 0.21031473577022552, 0.23835670948028564, 0.2523776888847351, 0.2523776888847351, 0.049073439091444016, 0.4885048568248749, 0.13957281410694122, 0.06978640705347061, 0.10467960685491562, 0.20935921370983124, 0.8786344528198242, 0.08786344528198242, 0.22473210096359253, 0.2643907070159912, 0.14541488885879517, 0.1982930302619934, 0.1718539595603943, 0.9211174845695496, 0.23692689836025238, 0.39023253321647644, 0.06968437880277634, 0.222990021109581, 0.09755813330411911, 0.8780555129051208, 0.7551358938217163, 0.5809746980667114, 0.11244671791791916, 0.18741120398044586, 0.09370560199022293, 0.9446749687194824, 0.9556052684783936, 0.745021641254425, 0.8278578519821167, 0.14408257603645325, 0.5186972618103027, 0.15849082171916962, 0.10085780173540115, 0.07204128801822662, 0.2769277095794678, 0.15186357498168945, 0.25012823939323425, 0.14293043315410614, 0.17866303026676178, 0.14481504261493683, 0.14481504261493683, 0.3982413709163666, 0.15688297152519226, 0.14481504261493683, 0.6320348978042603, 0.15800872445106506, 0.11286337673664093, 0.11286337673664093, 0.8197301030158997, 0.7551105618476868, 0.11766557395458221, 0.31377488374710083, 0.5491060018539429, 0.15013247728347778, 0.850750744342804, 0.7550422549247742, 0.8393194675445557, 0.7951458692550659, 0.14457197487354279, 0.7549683451652527, 0.3296935558319092, 0.46157097816467285, 0.1978161334991455, 0.8250033855438232, 0.1255144327878952, 0.3765433132648468, 0.4706791639328003, 0.6817135810852051, 0.12782129645347595, 0.2130354791879654, 0.06952859461307526, 0.9038717746734619, 0.9217249751091003, 0.1573389321565628, 0.7866946458816528, 0.8280225396156311, 0.7090522050857544, 0.0886315256357193, 0.1772630512714386, 0.26536908745765686, 0.7076508402824402, 0.955519437789917, 0.22368314862251282, 0.3863618075847626, 0.1016741544008255, 0.22368314862251282, 0.08133932948112488, 0.9385735988616943, 0.7454621195793152, 0.8280802965164185, 0.7325729727745056, 0.14651459455490112, 0.14651459455490112, 0.9447742700576782, 0.4305659830570221, 0.2870439887046814, 0.17940250039100647, 0.10764149576425552, 0.9279336929321289, 0.5596933364868164, 0.14728771150112152, 0.14728771150112152, 0.14728771150112152, 0.8251256942749023, 0.894630491733551, 0.6739014387130737, 0.1805093139410019, 0.1444074511528015, 0.08905760198831558, 0.17811520397663116, 0.1424921602010727, 0.5165340900421143, 0.07124608010053635, 0.1726885735988617, 0.7339264750480652, 0.08634428679943085, 0.9548490047454834, 0.9035937786102295, 0.07529947906732559, 0.751144528388977, 0.7309995293617249, 0.25584983825683594, 0.7381248474121094, 0.8348677158355713, 0.13894964754581451, 0.8336978554725647, 0.7227790951728821, 0.10325415432453156, 0.10325415432453156, 0.4458678960800171, 0.1238522008061409, 0.07431131601333618, 0.34678614139556885, 0.8837582468986511, 0.7511321306228638, 0.8994494676589966, 0.8705045580863953, 0.12435779720544815, 0.8197226524353027, 0.8880402445793152, 0.06831078976392746, 0.250657856464386, 0.751973569393158, 0.2843601703643799, 0.41361480951309204, 0.2843601703643799, 0.9622246026992798, 0.750987708568573, 0.8250443339347839, 0.8393964767456055, 0.8946580290794373, 0.8868107199668884, 0.6651145815849304, 0.11567209661006927, 0.20242616534233093, 0.6677669882774353, 0.20546676218509674, 0.10273338109254837, 0.14704851806163788, 0.7352425456047058, 0.08822910487651825, 0.9700455665588379, 0.7973361015319824, 0.14497020840644836, 0.8554741740226746, 0.05346713587641716, 0.05346713587641716, 0.9921907186508179, 0.21286968886852264, 0.2736895978450775, 0.0912298634648323, 0.4257393777370453, 0.8705347180366516, 0.12436210364103317, 0.17757098376750946, 0.6392555832862854, 0.10654259473085403, 0.07102839648723602, 0.6477086544036865, 0.09252980351448059, 0.12337307631969452, 0.12337307631969452, 0.1392960101366043, 0.38306403160095215, 0.4527120292186737, 0.8251365423202515, 0.8867618441581726, 0.15489941835403442, 0.7744970321655273, 0.3921966254711151, 0.2614644169807434, 0.32683050632476807, 0.10412810742855072, 0.20825621485710144, 0.5727046132087708, 0.10412810742855072, 0.2981526255607605, 0.13552391529083252, 0.16262871026992798, 0.40657174587249756, 0.18770518898963928, 0.8133891820907593, 0.5738947987556458, 0.38259652256965637, 0.25644126534461975, 0.641103208065033, 0.08548042923212051, 0.25702792406082153, 0.1468730866909027, 0.07343654334545135, 0.5140558481216431, 0.12594181299209595, 0.8815926313400269, 0.8467254042625427, 0.15395008027553558, 0.8770214319229126, 0.38315853476524353, 0.09578963369131088, 0.478948175907135, 0.23919233679771423, 0.7175769805908203, 0.6030685305595398, 0.10642385482788086, 0.28379693627357483, 0.8838270306587219, 0.1602017730474472, 0.1201513260602951, 0.5206557512283325, 0.1602017730474472, 0.5302586555480957, 0.10100165009498596, 0.05050082504749298, 0.3282553553581238, 0.2656940519809723, 0.19927053153514862, 0.33211755752563477, 0.06642351299524307, 0.13284702599048615, 0.8598336577415466, 0.8277304768562317, 0.8392918705940247, 0.6809493899345398, 0.12380897998809814, 0.07222190499305725, 0.11865027248859406, 0.7549607753753662, 0.8349276185035706, 0.15690109133720398, 0.7845054864883423, 0.8525740504264832, 0.1420956701040268, 0.17926451563835144, 0.7768129110336304, 0.12595446407794952, 0.7557268142700195, 0.945497989654541, 0.8348006010055542, 0.31037449836730957, 0.19099968671798706, 0.47749924659729004, 0.1579422950744629, 0.07897114753723145, 0.17373652756214142, 0.3790615200996399, 0.2211192101240158, 0.26727473735809326, 0.7127326130867004, 0.8197531700134277, 0.1142856627702713, 0.7999996542930603, 0.9385819435119629, 0.12061620503664017, 0.5628756284713745, 0.28143781423568726, 0.742761492729187, 0.11283890157938004, 0.11283890157938004, 0.6206139326095581, 0.16925834119319916, 0.8658699989318848, 0.0835123360157013, 0.3062118887901306, 0.5845863819122314, 0.7427240014076233, 0.2510066032409668, 0.7530198097229004, 0.20835302770137787, 0.7292355895042419, 0.7450442314147949, 0.8783977627754211, 0.2618992030620575, 0.22916178405284882, 0.4910609722137451, 0.03273740038275719, 0.8250188827514648, 0.4659824073314667, 0.411160945892334, 0.05482146143913269, 0.08223219215869904, 0.9847165942192078, 0.21566727757453918, 0.7548354268074036, 0.7549707889556885, 0.8839210271835327, 0.6973308324813843, 0.23244361579418182, 0.046488720923662186, 0.6829739809036255, 0.310442715883255, 0.8249799609184265, 0.9638973474502563], \"Term\": [\"abstract\", \"adaptive\", \"adaptive\", \"adaptive\", \"adaptive\", \"adaptive\", \"air\", \"algorithm\", \"algorithm\", \"algorithm\", \"algorithm\", \"algorithms\", \"algorithms\", \"algorithms\", \"algorithms\", \"algorithms\", \"analysis\", \"analysis\", \"analysis\", \"analysis\", \"analysis\", \"antennas\", \"appearance\", \"application\", \"application\", \"application\", \"application\", \"applications\", \"applications\", \"applications\", \"applications\", \"applications\", \"approach\", \"approach\", \"approach\", \"approach\", \"approach\", \"approaches\", \"approaches\", \"artificial\", \"artificial\", \"assembly\", \"assessing\", \"assessing\", \"association\", \"attribute\", \"automatic\", \"automatic\", \"automatic\", \"average\", \"awareness\", \"balancing\", \"based\", \"based\", \"based\", \"based\", \"based\", \"bearing\", \"belief\", \"best\", \"biologically\", \"bipartite\", \"blind\", \"blind\", \"block\", \"block\", \"book_review\", \"bound\", \"bound\", \"boundary_value\", \"boundary_value\", \"branch\", \"capacitated\", \"capacity\", \"cdma\", \"cdma\", \"cdma\", \"centralized\", \"certain\", \"channel\", \"channel\", \"classes\", \"classes\", \"classification\", \"classification\", \"classification\", \"classification\", \"closed_loop\", \"coded\", \"codes\", \"codes\", \"codes\", \"codes\", \"coding\", \"coding\", \"coding\", \"column\", \"complex\", \"compression\", \"compressive\", \"computing\", \"computing\", \"computing\", \"computing\", \"computing\", \"control\", \"control\", \"control\", \"control\", \"cover\", \"cpm\", \"cut\", \"das\", \"data\", \"data\", \"data\", \"data\", \"decision\", \"decision\", \"decision\", \"decision_making\", \"decision_making\", \"decoding\", \"dempster\", \"dense\", \"design\", \"design\", \"design\", \"design\", \"design\", \"designing\", \"designing\", \"detection\", \"detection\", \"detection\", \"detection\", \"detection\", \"diagnosis\", \"digital\", \"digital\", \"digital\", \"digital\", \"dimensional\", \"dimensional\", \"dimensional\", \"dimensional\", \"dimensional\", \"dimensions\", \"discretization\", \"distortion\", \"distributed\", \"distributed\", \"distributed\", \"diversity\", \"diversity\", \"double\", \"double\", \"dual\", \"dual\", \"dynamic\", \"dynamic\", \"dynamic\", \"dynamic\", \"editorial\", \"efficient\", \"efficient\", \"efficient\", \"efficient\", \"efficient\", \"enabled\", \"enabled\", \"enabling\", \"enterprise\", \"enterprise\", \"envelopment\", \"equations\", \"equations\", \"equations\", \"equations\", \"errata\", \"error\", \"error\", \"error\", \"error\", \"estimation\", \"estimation\", \"estimation\", \"estimation\", \"ethernet\", \"event\", \"event\", \"event\", \"evolutionary\", \"evolutionary\", \"expressions\", \"eye\", \"fading_channels\", \"fading_channels\", \"failure\", \"failure\", \"fast\", \"fast\", \"fast\", \"fast\", \"fault\", \"fault\", \"feasible\", \"field\", \"field\", \"field\", \"filters\", \"filters\", \"fit\", \"fluid\", \"fractional\", \"fractional\", \"fractional\", \"framework\", \"framework\", \"framework\", \"framework\", \"function\", \"function\", \"function\", \"functions\", \"functions\", \"functions\", \"functions\", \"fuzzy\", \"fuzzy\", \"fuzzy\", \"fuzzy_logic\", \"fuzzy_logic\", \"f\\u00fcr\", \"f\\u00fcr\", \"games\", \"games\", \"gene\", \"gene\", \"general\", \"general\", \"generalized\", \"generalized\", \"generalized\", \"geographic\", \"geometric\", \"geometric\", \"global\", \"global\", \"global\", \"good\", \"government\", \"government\", \"graph\", \"graph\", \"graph\", \"graph\", \"graph\", \"graphs\", \"graphs\", \"graphs\", \"graphs\", \"grid\", \"grid\", \"group\", \"group\", \"group\", \"guest\", \"heuristic\", \"heuristic\", \"heuristic\", \"high\", \"high\", \"high\", \"high\", \"high\", \"human\", \"human\", \"human\", \"human\", \"identification\", \"identification\", \"identification\", \"identification\", \"images\", \"images\", \"images\", \"images\", \"images\", \"importance\", \"improved\", \"improved\", \"improved\", \"improved\", \"improved\", \"improvement\", \"improvement\", \"india\", \"induced\", \"induced\", \"information\", \"information\", \"information\", \"information\", \"information\", \"information_technology\", \"information_technology\", \"information_technology\", \"insights\", \"integrating\", \"integrating\", \"intersection\", \"introduction\", \"kernels\", \"land\", \"language\", \"language\", \"languages\", \"languages\", \"layout\", \"learning\", \"learning\", \"learning\", \"learning\", \"learning\", \"linear\", \"linear\", \"linear\", \"list\", \"localization\", \"localization\", \"logic\", \"logic\", \"logic\", \"logic\", \"lossless\", \"mean\", \"mean\", \"mediated\", \"memory\", \"memory\", \"memory\", \"method\", \"method\", \"method\", \"method\", \"method\", \"methods\", \"methods\", \"methods\", \"methods\", \"methods\", \"mimo\", \"minimum\", \"minimum\", \"minimum\", \"minimum\", \"mining\", \"mining\", \"mining\", \"mixture\", \"mode\", \"mode\", \"mode\", \"mode\", \"model\", \"model\", \"model\", \"model\", \"model\", \"modeling\", \"modeling\", \"modeling\", \"modeling\", \"modeling\", \"modelling\", \"modelling\", \"models\", \"models\", \"models\", \"models\", \"models\", \"modulation\", \"multi\", \"multi\", \"multi\", \"multi\", \"multi\", \"multi_agent\", \"multihop\", \"multiple\", \"multiple\", \"multiple\", \"multiple\", \"multiscale\", \"multiuser\", \"native\", \"neighbor\", \"network\", \"network\", \"network\", \"network\", \"network\", \"networks\", \"networks\", \"networks\", \"networks\", \"networks\", \"new\", \"new\", \"new\", \"new\", \"new\", \"non\", \"non\", \"non\", \"non\", \"noncoherent\", \"notes\", \"numerical\", \"numerical\", \"numerical\", \"objects\", \"objects\", \"observations\", \"obtaining\", \"ofdm\", \"ofdm\", \"operational\", \"optimization\", \"optimization\", \"optimization\", \"optimum\", \"order\", \"order\", \"order\", \"oriented\", \"oriented\", \"oriented\", \"orthogonal\", \"orthogonal\", \"outage\", \"partition\", \"partition\", \"pass\", \"paths\", \"paths\", \"paths\", \"pattern\", \"pattern\", \"peer\", \"performance\", \"performance\", \"performance\", \"performance\", \"performance\", \"period\", \"pilot\", \"planes\", \"policy\", \"policy\", \"policy\", \"polytope\", \"power\", \"power\", \"power\", \"power\", \"power_control\", \"prediction\", \"prediction\", \"prediction\", \"prediction\", \"preface\", \"principle\", \"problem\", \"problem\", \"problem\", \"problems\", \"problems\", \"problems\", \"problems\", \"problems\", \"product\", \"product\", \"product\", \"programs\", \"properties\", \"properties\", \"propositional\", \"protocol\", \"protocol\", \"purpose\", \"puzzle\", \"queue\", \"queue\", \"radio\", \"radio\", \"radio\", \"random\", \"random\", \"random\", \"random\", \"reality\", \"recurrence\", \"registration\", \"relational\", \"relational\", \"relative\", \"relay\", \"relay\", \"remote\", \"remote\", \"research\", \"research\", \"research\", \"restoration\", \"riccati\", \"rights\", \"road\", \"robotics\", \"robots\", \"routing\", \"routing\", \"routing\", \"scheduling\", \"scheduling\", \"scheduling\", \"selection\", \"selection\", \"selection\", \"sensing\", \"sensor_networks\", \"sensor_networks\", \"sequence\", \"sequence\", \"sequence\", \"sequences\", \"service\", \"service\", \"service\", \"service\", \"service_oriented\", \"service_oriented\", \"services\", \"services\", \"services\", \"services\", \"set\", \"set\", \"set\", \"set\", \"sets\", \"sets\", \"sets\", \"shop\", \"signature\", \"similarity\", \"similarity\", \"simulation\", \"simulation\", \"simulation\", \"size\", \"size\", \"size\", \"size\", \"software\", \"software\", \"software\", \"software\", \"solutions\", \"solutions\", \"solving\", \"solving\", \"source\", \"source\", \"source\", \"space\", \"space\", \"space\", \"space\", \"spaces\", \"spaces\", \"special_issue\", \"special_issue\", \"specification\", \"spectrum\", \"spectrum\", \"spectrum\", \"speech\", \"speech\", \"stability\", \"stability\", \"stability\", \"stationary\", \"statistical\", \"statistical\", \"statistical\", \"statistical\", \"stochastic\", \"stochastic\", \"stochastic\", \"stochastic\", \"structure\", \"structure\", \"structure\", \"structure\", \"structure\", \"support_vector\", \"surveillance\", \"switched\", \"systems\", \"systems\", \"systems\", \"systems\", \"tableaux\", \"tables\", \"technical\", \"technical\", \"techniques\", \"techniques\", \"test\", \"test\", \"texture\", \"texture\", \"theorem\", \"theorems\", \"theory\", \"theory\", \"theory\", \"time\", \"time\", \"time\", \"time\", \"time\", \"training\", \"training\", \"transceiver\", \"transition\", \"transition\", \"transitions\", \"tree\", \"tree\", \"tree\", \"ubiquitous\", \"und\", \"und\", \"und\", \"und\", \"upper\", \"use\", \"use\", \"use\", \"vague\", \"validation\", \"validation\", \"variables\", \"variables\", \"vectors\", \"vehicles\", \"video\", \"video\", \"video\", \"video\", \"views\", \"virtual\", \"virtual\", \"virtual\", \"virtual\", \"web\", \"weighted\", \"weighted\", \"wheels\", \"wind\", \"wireless\", \"wireless\", \"wireless\", \"wireless_sensor_networks\", \"wireless_sensor_networks\", \"worst\", \"zero\"]}, \"R\": 30, \"lambda.step\": 0.01, \"plot.opts\": {\"xlab\": \"PC1\", \"ylab\": \"PC2\"}, \"topic.order\": [3, 1, 5, 2, 4]};\n",
       "\n",
       "function LDAvis_load_lib(url, callback){\n",
       "  var s = document.createElement('script');\n",
       "  s.src = url;\n",
       "  s.async = true;\n",
       "  s.onreadystatechange = s.onload = callback;\n",
       "  s.onerror = function(){console.warn(\"failed to load library \" + url);};\n",
       "  document.getElementsByTagName(\"head\")[0].appendChild(s);\n",
       "}\n",
       "\n",
       "if(typeof(LDAvis) !== \"undefined\"){\n",
       "   // already loaded: just create the visualization\n",
       "   !function(LDAvis){\n",
       "       new LDAvis(\"#\" + \"ldavis_el188451122236778005457654864\", ldavis_el188451122236778005457654864_data);\n",
       "   }(LDAvis);\n",
       "}else if(typeof define === \"function\" && define.amd){\n",
       "   // require.js is available: use it to load d3/LDAvis\n",
       "   require.config({paths: {d3: \"https://cdnjs.cloudflare.com/ajax/libs/d3/3.5.5/d3.min\"}});\n",
       "   require([\"d3\"], function(d3){\n",
       "      window.d3 = d3;\n",
       "      LDAvis_load_lib(\"https://cdn.rawgit.com/bmabey/pyLDAvis/files/ldavis.v1.0.0.js\", function(){\n",
       "        new LDAvis(\"#\" + \"ldavis_el188451122236778005457654864\", ldavis_el188451122236778005457654864_data);\n",
       "      });\n",
       "    });\n",
       "}else{\n",
       "    // require.js not available: dynamically load d3 & LDAvis\n",
       "    LDAvis_load_lib(\"https://cdnjs.cloudflare.com/ajax/libs/d3/3.5.5/d3.min.js\", function(){\n",
       "         LDAvis_load_lib(\"https://cdn.rawgit.com/bmabey/pyLDAvis/files/ldavis.v1.0.0.js\", function(){\n",
       "                 new LDAvis(\"#\" + \"ldavis_el188451122236778005457654864\", ldavis_el188451122236778005457654864_data);\n",
       "            })\n",
       "         });\n",
       "}\n",
       "</script>"
      ],
      "text/plain": [
       "PreparedData(topic_coordinates=              x         y  topics  cluster       Freq\n",
       "topic                                                \n",
       "2     -0.139697 -0.001018       1        1  23.631550\n",
       "0      0.006534 -0.006280       2        1  20.694832\n",
       "4      0.006282  0.114910       3        1  20.275492\n",
       "1      0.021233 -0.124931       4        1  18.080149\n",
       "3      0.105648  0.017318       5        1  17.317980, topic_info=     Category        Freq            Term       Total  loglift  logprob\n",
       "term                                                                   \n",
       "252   Default  142.000000            data  142.000000  30.0000  30.0000\n",
       "74    Default  193.000000         systems  193.000000  29.0000  29.0000\n",
       "129   Default   47.000000             web   47.000000  28.0000  28.0000\n",
       "276   Default  117.000000       algorithm  117.000000  27.0000  27.0000\n",
       "68    Default   83.000000         problem   83.000000  26.0000  26.0000\n",
       "280   Default   47.000000         channel   47.000000  25.0000  25.0000\n",
       "385   Default   49.000000          linear   49.000000  24.0000  24.0000\n",
       "1145  Default   71.000000           fuzzy   71.000000  23.0000  23.0000\n",
       "97    Default  322.000000           based  322.000000  22.0000  22.0000\n",
       "805   Default   26.000000    introduction   26.000000  21.0000  21.0000\n",
       "427   Default   58.000000     distributed   58.000000  20.0000  20.0000\n",
       "23    Default  212.000000        analysis  212.000000  19.0000  19.0000\n",
       "254   Default   20.000000         sensing   20.000000  18.0000  18.0000\n",
       "571   Default   26.000000      properties   26.000000  17.0000  17.0000\n",
       "651   Default   66.000000         dynamic   66.000000  16.0000  16.0000\n",
       "258   Default   24.000000       editorial   24.000000  15.0000  15.0000\n",
       "424   Default   19.000000       sequences   19.000000  14.0000  14.0000\n",
       "217   Default   19.000000         complex   19.000000  13.0000  13.0000\n",
       "623   Default   60.000000    optimization   60.000000  12.0000  12.0000\n",
       "69    Default  104.000000         control  104.000000  11.0000  11.0000\n",
       "1455  Default   35.000000             use   35.000000  10.0000  10.0000\n",
       "324   Default   43.000000        wireless   43.000000   9.0000   9.0000\n",
       "521   Default   34.000000       selection   34.000000   8.0000   8.0000\n",
       "761   Default   27.000000        protocol   27.000000   7.0000   7.0000\n",
       "909   Default   16.000000        programs   16.000000   6.0000   6.0000\n",
       "56    Default   29.000000        language   29.000000   5.0000   5.0000\n",
       "871   Default   19.000000         objects   19.000000   4.0000   4.0000\n",
       "171   Default   34.000000         routing   34.000000   3.0000   3.0000\n",
       "375   Default   16.000000     compression   16.000000   2.0000   2.0000\n",
       "47    Default   41.000000          theory   41.000000   1.0000   1.0000\n",
       "...       ...         ...             ...         ...      ...      ...\n",
       "591    Topic5   14.169184           space   27.234396   1.1000  -6.0420\n",
       "315    Topic5   15.126435           order   31.868843   1.0082  -5.9766\n",
       "196    Topic5    9.652489            grid   16.836063   1.1971  -6.4258\n",
       "23     Topic5   56.453117        analysis  212.364960   0.4285  -4.6596\n",
       "194    Topic5   32.956043          method  106.829453   0.5774  -5.1979\n",
       "192    Topic5   16.196039          images   38.341927   0.8916  -5.9083\n",
       "647    Topic5   13.261057            sets   28.715826   0.9808  -6.1082\n",
       "763    Topic5   14.389239         service   32.883968   0.9269  -6.0266\n",
       "293    Topic5   16.603750            high   43.346352   0.7938  -5.8834\n",
       "3      Topic5   14.865679        improved   36.054321   0.8675  -5.9940\n",
       "531    Topic5   14.801194        software   36.893856   0.8401  -5.9983\n",
       "146    Topic5   11.011962         minimum   23.228569   1.0070  -6.2941\n",
       "71     Topic5    9.676332            mode   18.403059   1.1106  -6.4234\n",
       "89     Topic5   14.913515      simulation   45.895348   0.6293  -5.9908\n",
       "652    Topic5   10.161755        spectrum   20.879086   1.0333  -6.3744\n",
       "99     Topic5   10.384226        function   22.510475   0.9797  -6.3528\n",
       "130    Topic5   13.456652  classification   40.803543   0.6441  -6.0936\n",
       "218    Topic5   19.806107        networks  111.942574   0.0214  -5.7071\n",
       "74     Topic5   23.106672         systems  193.847000  -0.3735  -5.5529\n",
       "190    Topic5   12.169531     dimensional   35.210701   0.6910  -6.1941\n",
       "46     Topic5   11.937591           logic   35.335144   0.6682  -6.2134\n",
       "34     Topic5   14.976567          graphs   72.507202   0.1762  -5.9866\n",
       "232    Topic5   13.952600            time   63.314262   0.2410  -6.0574\n",
       "50     Topic5   14.585516     information   82.201233   0.0243  -6.0130\n",
       "481    Topic5   13.811560       detection   69.695427   0.1348  -6.0675\n",
       "155    Topic5   12.379254       computing   48.247402   0.3931  -6.1770\n",
       "1480   Topic5   13.329602          models   75.645622   0.0174  -6.1031\n",
       "252    Topic5   14.380395            data  142.452911  -0.5397  -6.0272\n",
       "97     Topic5   15.779764           based  322.176056  -1.2629  -5.9343\n",
       "253    Topic5   12.494465       efficient   69.952415   0.0309  -6.1678\n",
       "\n",
       "[382 rows x 6 columns], token_table=      Topic      Freq                      Term\n",
       "term                                           \n",
       "2008      5  0.882013                  abstract\n",
       "389       1  0.354418                  adaptive\n",
       "389       2  0.206744                  adaptive\n",
       "389       3  0.073837                  adaptive\n",
       "389       4  0.265813                  adaptive\n",
       "389       5  0.103372                  adaptive\n",
       "579       1  0.955677                       air\n",
       "276       1  0.059479                 algorithm\n",
       "276       2  0.237916                 algorithm\n",
       "276       3  0.577795                 algorithm\n",
       "276       4  0.127455                 algorithm\n",
       "160       1  0.259917                algorithms\n",
       "160       2  0.259917                algorithms\n",
       "160       3  0.101079                algorithms\n",
       "160       4  0.231037                algorithms\n",
       "160       5  0.144398                algorithms\n",
       "23        1  0.070633                  analysis\n",
       "23        2  0.178937                  analysis\n",
       "23        3  0.216608                  analysis\n",
       "23        4  0.263697                  analysis\n",
       "23        5  0.263697                  analysis\n",
       "2674      1  0.921621                  antennas\n",
       "580       3  0.886833                appearance\n",
       "277       1  0.503300               application\n",
       "277       2  0.146119               application\n",
       "277       3  0.259768               application\n",
       "277       4  0.081177               application\n",
       "425       1  0.351628              applications\n",
       "425       2  0.217675              applications\n",
       "425       3  0.184186              applications\n",
       "...     ...       ...                       ...\n",
       "1455      3  0.306212                       use\n",
       "1455      5  0.584586                       use\n",
       "180       2  0.742724                     vague\n",
       "3574      2  0.251007                validation\n",
       "3574      5  0.753020                validation\n",
       "1758      2  0.208353                 variables\n",
       "1758      4  0.729236                 variables\n",
       "2877      3  0.745044                   vectors\n",
       "587       1  0.878398                  vehicles\n",
       "563       1  0.261899                     video\n",
       "563       3  0.229162                     video\n",
       "563       4  0.491061                     video\n",
       "563       5  0.032737                     video\n",
       "4223      2  0.825019                     views\n",
       "128       1  0.465982                   virtual\n",
       "128       2  0.411161                   virtual\n",
       "128       3  0.054821                   virtual\n",
       "128       4  0.082232                   virtual\n",
       "129       2  0.984717                       web\n",
       "350       2  0.215667                  weighted\n",
       "350       3  0.754835                  weighted\n",
       "4551      5  0.754971                    wheels\n",
       "3367      2  0.883921                      wind\n",
       "324       1  0.697331                  wireless\n",
       "324       3  0.232444                  wireless\n",
       "324       5  0.046489                  wireless\n",
       "1484      2  0.682974  wireless_sensor_networks\n",
       "1484      4  0.310443  wireless_sensor_networks\n",
       "235       2  0.824980                     worst\n",
       "642       4  0.963897                      zero\n",
       "\n",
       "[680 rows x 3 columns], R=30, lambda_step=0.01, plot_opts={'xlab': 'PC1', 'ylab': 'PC2'}, topic_order=[3, 1, 5, 2, 4])"
      ]
     },
     "execution_count": 7,
     "metadata": {},
     "output_type": "execute_result"
    }
   ],
   "source": [
    "LDA_topics = prepare_LDA_topics(file_path)\n",
    "pyLDAvis.enable_notebook()\n",
    "\n",
    "# pyLDAvis.gensim.prepare function gets these arguments:\n",
    "# topic_model : gensim.models.ldamodel.LdaModel :  An already trained Gensim LdaModel.\n",
    "# corpus : array-like list of bag of word docs in tuple form or scipy CSC matrix. \n",
    "# dictionary: gensim.corpora.Dictionary. The dictionary object used to create the corpus. Needed to extract the actual terms (not ids).\n",
    "\n",
    "pyLDAvis.gensim.prepare(*LDA_topics[:3])"
   ]
  },
  {
   "cell_type": "markdown",
   "metadata": {},
   "source": [
    "In the visualization above $\\lambda$ determines the weight given to the probability of term $w$ under topic $k$ relative to its lift (how prevalence of a term across all topics). \n",
    "Setting  $\\lambda= 1$ results in the familiar ranking of terms in decreasing order of their topic-specific probability, and setting  $\\lambda= 0$ ranks terms solely by their lift. We wish to learn an “optimal” value of  for topic interpretation from our user study.\n",
    "$$r(w,k\\mid \\lambda) = \\lambda \\log(\\Phi_{kw})+(1-\\lambda)log(\\frac{\\Phi_{kw}}{P_w})$$\n",
    "\n",
    "$ \\Phi_{kw}$ : probability of term $w \\in \\left \\{ 1, ..., V \\right \\} $ for topic $k \\in \\left \\{ 1, ..., K\\right \\}$, where $V$ denotes the number of terms in the vocabulary\n",
    "\n",
    "$P_w$ : marginal probability of term $w$ in the corpus."
   ]
  },
  {
   "cell_type": "markdown",
   "metadata": {},
   "source": [
    "## Latent Semantic Indexing (LSI)"
   ]
  },
  {
   "cell_type": "markdown",
   "metadata": {},
   "source": [
    "LSI or (LSA, Latent Semantic Analysis)- which is a bit younger model respect to LDA -  uses a linear algebra technique called SVD (singular value decomposition together with BOW representation of text documents for extracting words with similar meanings. LSI is able to model synonymy (multiple words with the same meaning) and polysemy(one word with multiple meaning).\n",
    "Unlike LDA, LSI is not a generative model, that's why according to some researchers, LSI is a imensionality-reduction technique and not a topic model _(don't feel bad about LSI, there is a probabilistic version of it called pLSI which IS a topic model :D )_\n",
    "In a nutshell, LSI first uses TF-IDF to create a BOW representation on the documents and then applying SVD technique, tries to convert a big and sparse outcome of TF-IDF to a denser and smaller representaion.\n",
    "\n",
    "_if you want a numerical walk-though of LSI check [this source](http://www1.se.cuhk.edu.hk/~seem5680/lecture/LSI-Eg.pdf)_"
   ]
  },
  {
   "cell_type": "markdown",
   "metadata": {},
   "source": [
    "## Hierarchical Dirichlet process (HDP)"
   ]
  },
  {
   "cell_type": "markdown",
   "metadata": {},
   "source": [
    "hierarchical Dirichlet process ([HDP](https://people.eecs.berkeley.edu/~jordan/papers/hdp.pdf)) is a non-parametric Bayesian model which is similar to LDA _(FYI: D.Blei one of the co-authors of LDA is also a co-author of HDP too)_, considers topics as a mixture of words but unlike LDA, doesn't need to have number of topics a priori but it finds the number of topics as a part of it generative model. (In fact, the \"Hierarchical\" term is related to finding the number of topics).\n",
    "\n",
    "_if you're interested to know more about HDP, take a look at this (a bit old) [video](https://www.youtube.com/watch?v=PxgW3lOrj60) from GoogleTechTalks by M.Jordan one the authors of HDP)_"
   ]
  },
  {
   "cell_type": "code",
   "execution_count": 8,
   "metadata": {},
   "outputs": [],
   "source": [
    "def LSI_HDP_topics(file_path:str, model:str='LSI', topic_n:int=10, word_n:int=10, gettopics:bool=False):\n",
    "    \"\"\"\n",
    "    print topics from Latent Semantic Indexing (LSI) and  Hierarchical Dirichlet process (HDP) models\n",
    "    -----------------------------\n",
    "    Parameters:\n",
    "    file_path : path of the csv file\n",
    "    model : 'LSI' or 'HDP' (string)\n",
    "    topic_n : number of topics to be returned (only for LSI)\n",
    "    word_n : number of keys to be returned for each topic\n",
    "    gettopics : if true the output won't be printed instead a list o topics will be returned\n",
    "    \"\"\"\n",
    "    docs = get_data(file_path)\n",
    "    sentences = text_preprocess(docs)\n",
    "    dictionary, documents = dict_document_matrix(sentences)\n",
    "    \n",
    "    \n",
    "    if model == 'LSI':\n",
    "        lsimodel = gensim.models.LsiModel(documents, num_topics=topic_n, id2word=dictionary)\n",
    "        lsitopics = lsimodel.show_topics(formatted=False, num_words=word_n)\n",
    "        if not gettopics:\n",
    "            print(f'\\033[5m{model} TOPICS\\n==========\\n')\n",
    "            for i, t in enumerate(lsitopics):\n",
    "                print(f'TOPIC {i+1} :')\n",
    "                tt = t[1]\n",
    "                ii=1\n",
    "                end = ' - '\n",
    "                for couple in tt:\n",
    "                    if ii == 10:\n",
    "                        end = '\\n'\n",
    "                    print(couple[0], end=end)\n",
    "                    ii+=1\n",
    "                print('-'*100)\n",
    "        else:\n",
    "            return lsitopics\n",
    "                \n",
    "    elif model == 'HDP':\n",
    "        hdpmodel = gensim.models.HdpModel(documents, id2word=dictionary) #no numtopic provided\n",
    "        hdptopics = hdpmodel.show_topics(formatted=False)\n",
    "        if not gettopics:\n",
    "            if topic_n > len(hdptopics):\n",
    "                topic_n = len(hdptopics)\n",
    "            print(f'\\033[5m{model} TOPICS\\n==========\\n')\n",
    "            print(f'\\033[34m\\033[1m{len(hdptopics)}\\033[0m topics have been identified. showing the first\\033[34m\\033[1m {topic_n}\\033[0m topics...\\n')\n",
    "            for i, t in enumerate(hdptopics[:topic_n]):\n",
    "                print(f'\\033[1mTOPIC {i+1} :\\033[0m')\n",
    "                tt = t[1]\n",
    "                ii=1\n",
    "                end = ' - '\n",
    "                for couple in tt[:word_n]:\n",
    "                    if ii == word_n:\n",
    "                        end = '\\n'\n",
    "                    print(couple[0], end=end)\n",
    "                    ii+=1\n",
    "                print('-'*120)\n",
    "        else:\n",
    "            return hdptopics"
   ]
  },
  {
   "cell_type": "code",
   "execution_count": 9,
   "metadata": {},
   "outputs": [
    {
     "name": "stderr",
     "output_type": "stream",
     "text": [
      "100%|██████████| 5000/5000 [00:00<00:00, 34915.00it/s]\n",
      "/Users/navid/anaconda3/lib/python3.7/site-packages/gensim/models/hdpmodel.py:467: DeprecationWarning: time.clock has been deprecated in Python 3.3 and will be removed from Python 3.8: use time.perf_counter or time.process_time instead\n",
      "  start_time = time.clock()\n"
     ]
    },
    {
     "name": "stdout",
     "output_type": "stream",
     "text": [
      "\u001b[5mHDP TOPICS\n",
      "==========\n",
      "\n",
      "\u001b[34m\u001b[1m20\u001b[0m has been identified. showing the first\u001b[34m\u001b[1m 10\u001b[0m topics...\n",
      "\n",
      "\u001b[1mTOPIC 1 :\u001b[0m\n",
      "wissensmanagement - summarization - resolution - individual - infinis - new - janet - analysis - foundations - edge\n",
      "----------------------------------------------------------------------------------------------------\n",
      "\u001b[1mTOPIC 2 :\u001b[0m\n",
      "heuristic - individuals - gmres - bucket - bioeconomic - topic - image - fpga - transaction - asymmetry\n",
      "----------------------------------------------------------------------------------------------------\n",
      "\u001b[1mTOPIC 3 :\u001b[0m\n",
      "boppard - swift - vascular - eye - result - healthy - wiki - subgraph - newfoundland - insights\n",
      "----------------------------------------------------------------------------------------------------\n",
      "\u001b[1mTOPIC 4 :\u001b[0m\n",
      "handoff - supported - sprite - renvoise - harmonic - antitag - modulated - departures - prng - techniques\n",
      "----------------------------------------------------------------------------------------------------\n",
      "\u001b[1mTOPIC 5 :\u001b[0m\n",
      "strength - spiral - ligand - rigid - declining - jeremy - rivals - irregularities - stretching - bush\n",
      "----------------------------------------------------------------------------------------------------\n",
      "\u001b[1mTOPIC 6 :\u001b[0m\n",
      "pythagorean - discretization - success - colony - dru - encodings - finding - catalog - odd - primitive\n",
      "----------------------------------------------------------------------------------------------------\n",
      "\u001b[1mTOPIC 7 :\u001b[0m\n",
      "study - permutations - improves - zwischen - boolean - base - dual - methodology - classroom - sec\n",
      "----------------------------------------------------------------------------------------------------\n",
      "\u001b[1mTOPIC 8 :\u001b[0m\n",
      "scheme - subband - bivariate - reverse - geocoding - freight - operational - methodological - fems - fading_channels\n",
      "----------------------------------------------------------------------------------------------------\n",
      "\u001b[1mTOPIC 9 :\u001b[0m\n",
      "tradeoffs - enriched - physiological - schrödinger - sat - bacteria - sierpiński - signature - machine_learning - normality\n",
      "----------------------------------------------------------------------------------------------------\n",
      "\u001b[1mTOPIC 10 :\u001b[0m\n",
      "ary - microlocal - vanadyl - scan - errata - character - alphabet - ecological - differentiable - maybury\n",
      "----------------------------------------------------------------------------------------------------\n"
     ]
    }
   ],
   "source": [
    "LSI_HDP_topics(file_path, model='HDP')"
   ]
  },
  {
   "cell_type": "markdown",
   "metadata": {},
   "source": [
    "## Evaluation of topics "
   ]
  },
  {
   "cell_type": "markdown",
   "metadata": {},
   "source": [
    "Until now, we've seen together three models for extracting topics from texts but how we can evaluate the results we got?\n",
    "of course, one way would be to perform a qualitative assessment which a part from its dubious outcome, will be quite hard to be done on large datasets.\n",
    "Another way (let's say the better way) is to do a quantitative analysis. sounds good, right? sure but how can we can make sure that our quantitave method actually represents a human judgement about the extracted topics?"
   ]
  },
  {
   "cell_type": "markdown",
   "metadata": {},
   "source": [
    "### Topic Coherence"
   ]
  },
  {
   "cell_type": "markdown",
   "metadata": {},
   "source": [
    "Topic coherence is a quantitative metric which is widely used for evaluation of Topic Modelling algorithms and has two main subgroups:\n",
    "* Intrinsic Measures (_UMass, ..._)\n",
    "* Extrinsic Measures (_UCI, ..._)\n",
    "Despite their slight difference, they both calculate the coherence among the topic words in the same way:\n",
    "\n",
    "$$Coherence=\\sum_{i< j}score(w_i,w_j)$$\n",
    "\n",
    "Both compute the sum of pairwise scores on the words $w_1$, ..., $w_n$ used to describe the topic, usually the top _n_ words by frequency.\n",
    "<img src=\"Files/coherence.png\" height=\"300\" width=\"300\">"
   ]
  },
  {
   "cell_type": "markdown",
   "metadata": {},
   "source": [
    "#### UMass Measure"
   ]
  },
  {
   "cell_type": "markdown",
   "metadata": {},
   "source": [
    "UMass measures how much, within the words used to describe a topic, a common word is in average a good predictor for a less common word.\n",
    "\n",
    "As the pairwise score used by the UMass measure is not symmetric, the order of the arguments matters. UMass measure is computing $p(rare\\,word \\mid common\\,word)$, how much a common word triggers a rarer word. \n",
    "$$score_{UMass}(w_i, w_j) = log\\frac{D(w_i,w_j)+1}{D(w_i)}$$"
   ]
  },
  {
   "cell_type": "markdown",
   "metadata": {},
   "source": [
    "#### UCI Measure"
   ]
  },
  {
   "cell_type": "markdown",
   "metadata": {},
   "source": [
    "UCI Measure uses PMI (Pointwise Mutual Information) as pairwise score function:\n",
    "$$score_{UCI}(w_i, w_j) = log\\frac{p(w_i,w_j)+1}{p(w_i)p(w_j)}$$\n",
    "\n",
    "$p(w)$ represents the probability of seeing $w_i$ in a random document, and $p(w_i,w_j)$ the probability of seeing both $w_i$ and $w_j$ co-occurring in a random document. UCI authors have calculated this values using Wikipedia dataset as the random document and as a result UCI induces orderings from bad to good topics that come closest to human coherence judgements.\n",
    "\n",
    "$$p(w_i,w_j) = \\frac{D_{wikipedia}(w_i, w_j)}{D_{wikipedia}}\\,\\,\\,\\,\\,\\,\\,\\,\\,\\,\\,\\,\\,\\,\\,\\,\\,\\,and\\,\\,\\,\\,\\,\\,\\,\\,\\,\\,\\,\\,\\,\\,\\,\\,\\,\\,p(w_i) = \\frac{D_{wikipedia}(w_i)}{D_{wikipedia}}$$ \n"
   ]
  },
  {
   "cell_type": "markdown",
   "metadata": {},
   "source": [
    "__$C_v$__"
   ]
  },
  {
   "cell_type": "markdown",
   "metadata": {},
   "source": [
    "$C_v$ is a extrinsic measure introduced by _Roder et al._ in their important paper _Exploring the Space of Topic Coherence Measures_. $C_v$ is a combination of indirect Cosine measure, Normalized PMI and Boolean Sliding Window method (which makes it close to UCI Metric."
   ]
  },
  {
   "cell_type": "markdown",
   "metadata": {},
   "source": [
    " "
   ]
  },
  {
   "cell_type": "markdown",
   "metadata": {},
   "source": [
    "Ok, Let's create a function for plotting the coherence results:"
   ]
  },
  {
   "cell_type": "code",
   "execution_count": 24,
   "metadata": {},
   "outputs": [],
   "source": [
    "def evaluate_graph(file_path:str, limit:int=4, num_topics:int=10, metric='c_v'):\n",
    "    \"\"\"\n",
    "    return a LDA graph using c_v coherence\n",
    "    --------------------------------------------------------------\n",
    "    Parameters:\n",
    "    file_path : path of the csv file\n",
    "    limit : topic limit\n",
    "    num_topics : number of topics to be returned\n",
    "    metric : metric to be used to measure the coherency. can be ['c_v', 'u_mass']\n",
    "    \"\"\"\n",
    "    docs = get_data(file_path)\n",
    "    sentences = text_preprocess(docs)\n",
    "    dictionary, documents = dict_document_matrix(sentences)\n",
    "    metric_list = []\n",
    "    lm_list = []\n",
    "    for num_topics in tqdm(range(1, limit+1)):\n",
    "        lm = gensim.models.LdaMulticore(corpus=documents, passes=30, num_topics=num_topics, id2word=dictionary, workers=numcpu)\n",
    "        lm_list.append(lm)\n",
    "        cm = CoherenceModel(model=lm, texts=sentences, dictionary=dictionary, coherence=metric)\n",
    "        metric_list.append(cm.get_coherence())\n",
    "    \n",
    "    x = range(1, limit+1)\n",
    "    plt.plot(x, metric_list)\n",
    "    plt.scatter(x, metric_list, s=40, color='r')\n",
    "    plt.title('Coherence Measure Evaluation', fontsize=22)\n",
    "    plt.xlabel(\"Number of topics\")\n",
    "    plt.ylabel(\"Coherence score\")\n",
    "    plt.xticks(list(range(1, limit+1)))\n",
    "    plt.show()"
   ]
  },
  {
   "cell_type": "code",
   "execution_count": 27,
   "metadata": {},
   "outputs": [
    {
     "name": "stderr",
     "output_type": "stream",
     "text": [
      "\n",
      "  0%|          | 0/5000 [00:00<?, ?it/s]\u001b[A\n",
      " 36%|███▌      | 1805/5000 [00:00<00:00, 18046.96it/s]\u001b[A\n",
      "100%|██████████| 5000/5000 [00:00<00:00, 26836.57it/s]\u001b[A\n",
      "  0%|          | 0/3 [00:00<?, ?it/s]\u001b[A\n",
      " 33%|███▎      | 1/3 [00:11<00:23, 11.96s/it]\u001b[A\n",
      " 67%|██████▋   | 2/3 [00:40<00:17, 17.06s/it]\u001b[A\n",
      "100%|██████████| 3/3 [01:11<00:00, 21.01s/it]\u001b[A\n",
      "\u001b[A"
     ]
    },
    {
     "data": {
      "image/png": "[encoded data removed]",
      "text/plain": [
       "<Figure size 864x432 with 1 Axes>"
      ]
     },
     "metadata": {
      "needs_background": "light"
     },
     "output_type": "display_data"
    }
   ],
   "source": [
    "evaluate_graph(file_path, limit=6, metric='c_v')"
   ]
  },
  {
   "cell_type": "markdown",
   "metadata": {},
   "source": [
    "The above function plots the coherence for differewnt topic numbers of one model byt what if we want to comoare different models together? "
   ]
  },
  {
   "cell_type": "code",
   "execution_count": null,
   "metadata": {},
   "outputs": [],
   "source": [
    "def evaluate_bar_graph(file_path:str, indices:list, log:bool=True):\n",
    "    \"\"\"\n",
    "    plot a coherences bar chart for the given model(s)\n",
    "    --------------------------------------------------\n",
    "    parametrs:\n",
    "    file_path : path of the csv file\n",
    "    indices : Indices to be used to mark bars. Length of this and coherences should be equal. (only the first 10 topic are used)\n",
    "    log : if True the status of the process will be printed out\n",
    "    \"\"\"\n",
    "    docs = get_data(file_path)\n",
    "    sentences = text_preprocess(docs)\n",
    "    dictionary, documents = dict_document_matrix(sentences)\n",
    "    coherences = []\n",
    "    for ind in indices:\n",
    "        if log:\n",
    "            print(f'\\33[34mCreating {ind} model ...')\n",
    "        if ind == 'LSI':\n",
    "            lsitopics = LSI_HDP_topics(file_path, model='LSI', gettopics=True)\n",
    "            lsitopics = [[word for word, prob in topic] for topicid, topic in lsitopics]\n",
    "            lsi_coherence = CoherenceModel(topics=lsitopics[:10], texts=sentences, dictionary=dictionary, window_size=10).get_coherence()\n",
    "            coherences.append(lsi_coherence)\n",
    "        elif ind == 'HDP':\n",
    "            hdptopics = LSI_HDP_topics(file_path, model='HDP', gettopics=True)\n",
    "            hdptopics = [[word for word, prob in topic] for topicid, topic in hdptopics]\n",
    "            hdp_coherence = CoherenceModel(topics=hdptopics[:10], texts=sentences, dictionary=dictionary, window_size=10).get_coherence()\n",
    "            coherences.append(hdp_coherence)\n",
    "        elif ind == 'LDA':\n",
    "            ldatopics = prepare_LDA_topics(file_path, )[3]\n",
    "            ldatopics = [[word for word, prob in topic] for topicid, topic in ldatopics]\n",
    "            lda_coherence = CoherenceModel(topics=ldatopics, texts=sentences, dictionary=dictionary, window_size=10).get_coherence()\n",
    "            coherences.append(lda_coherence)\n",
    "        \n",
    "    n = len(coherences)\n",
    "    x = np.arange(n)\n",
    "    plt.bar(x, coherences, width=0.2, tick_label=indices, align='center')\n",
    "    plt.title('Coherence Comparison', fontsize=20 )\n",
    "    plt.xlabel('Models')\n",
    "    plt.ylabel('Coherence Value')\n",
    "    plt.show()"
   ]
  },
  {
   "cell_type": "code",
   "execution_count": 13,
   "metadata": {},
   "outputs": [
    {
     "name": "stderr",
     "output_type": "stream",
     "text": [
      "100%|██████████| 5000/5000 [00:00<00:00, 35170.89it/s]\n"
     ]
    },
    {
     "name": "stdout",
     "output_type": "stream",
     "text": [
      "Creating LSI model ...\n"
     ]
    },
    {
     "name": "stderr",
     "output_type": "stream",
     "text": [
      "100%|██████████| 5000/5000 [00:00<00:00, 27897.71it/s]\n"
     ]
    },
    {
     "name": "stdout",
     "output_type": "stream",
     "text": [
      "Creating HDP model ...\n"
     ]
    },
    {
     "name": "stderr",
     "output_type": "stream",
     "text": [
      "100%|██████████| 5000/5000 [00:00<00:00, 27437.71it/s]\n",
      "/Users/navid/anaconda3/lib/python3.7/site-packages/gensim/models/hdpmodel.py:467: DeprecationWarning: time.clock has been deprecated in Python 3.3 and will be removed from Python 3.8: use time.perf_counter or time.process_time instead\n",
      "  start_time = time.clock()\n"
     ]
    },
    {
     "name": "stdout",
     "output_type": "stream",
     "text": [
      "Creating LDA model ...\n"
     ]
    },
    {
     "name": "stderr",
     "output_type": "stream",
     "text": [
      "100%|██████████| 5000/5000 [00:00<00:00, 16888.14it/s]\n"
     ]
    },
    {
     "data": {
      "image/png": "[encoded data removed]",
      "text/plain": [
       "<Figure size 864x432 with 1 Axes>"
      ]
     },
     "metadata": {
      "needs_background": "light"
     },
     "output_type": "display_data"
    }
   ],
   "source": [
    "evaluate_bar_graph(file_path, ['LSI', 'HDP', 'LDA'])"
   ]
  },
  {
   "cell_type": "markdown",
   "metadata": {},
   "source": [
    "## Resources"
   ]
  },
  {
   "cell_type": "markdown",
   "metadata": {},
   "source": [
    "Leveraging Unstructured Information Using Topic Modelling [link](http://induvations.co.za/attachments/146_Leveraging%20Unstructured%20Information%20Using%20Topic%20Modelling.pdf)\n",
    "\n",
    "LDAvis: A method for visualizing and interpreting topics [link](https://nlp.stanford.edu/events/illvi2014/papers/sievert-illvi2014.pdf)\n",
    "\n",
    "Exploring the Space of Topic Coherence Measures [link](http://svn.aksw.org/papers/2015/WSDM_Topic_Evaluation/public.pdf)\n",
    "\n",
    "Evaluating topic coherence measures [link](https://arxiv.org/pdf/1403.6397.pdf)"
   ]
  }
 ],
 "metadata": {
  "kernelspec": {
   "display_name": "Python 3",
   "language": "python",
   "name": "python3"
  },
  "toc": {
   "base_numbering": 1,
   "nav_menu": {},
   "number_sections": true,
   "sideBar": true,
   "skip_h1_title": false,
   "title_cell": "Table of Contents",
   "title_sidebar": "Contents",
   "toc_cell": false,
   "toc_position": {},
   "toc_section_display": true,
   "toc_window_display": false
  }
 },
 "nbformat": 4,
 "nbformat_minor": 1
}
